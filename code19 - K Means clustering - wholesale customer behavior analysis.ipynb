{
 "cells": [
  {
   "cell_type": "code",
   "execution_count": 3,
   "metadata": {
    "scrolled": true
   },
   "outputs": [],
   "source": [
    "import numpy as np\n",
    "import matplotlib.pyplot as plt\n",
    "import pandas as pd\n",
    "import seaborn as sns"
   ]
  },
  {
   "cell_type": "code",
   "execution_count": 4,
   "metadata": {},
   "outputs": [
    {
     "data": {
      "text/plain": [
       "(440, 8)"
      ]
     },
     "execution_count": 4,
     "metadata": {},
     "output_type": "execute_result"
    }
   ],
   "source": [
    "# loading data\n",
    "df = pd.read_excel(r\"E:\\Xebia\\xebia_training_data\\datasets\\Wholesale customers data.xlsx\")\n",
    "df.shape"
   ]
  },
  {
   "cell_type": "markdown",
   "metadata": {},
   "source": [
    "## Data Exploration"
   ]
  },
  {
   "cell_type": "code",
   "execution_count": 5,
   "metadata": {
    "collapsed": true
   },
   "outputs": [
    {
     "data": {
      "text/html": [
       "<div>\n",
       "<style scoped>\n",
       "    .dataframe tbody tr th:only-of-type {\n",
       "        vertical-align: middle;\n",
       "    }\n",
       "\n",
       "    .dataframe tbody tr th {\n",
       "        vertical-align: top;\n",
       "    }\n",
       "\n",
       "    .dataframe thead th {\n",
       "        text-align: right;\n",
       "    }\n",
       "</style>\n",
       "<table border=\"1\" class=\"dataframe\">\n",
       "  <thead>\n",
       "    <tr style=\"text-align: right;\">\n",
       "      <th></th>\n",
       "      <th>Channel</th>\n",
       "      <th>Region</th>\n",
       "      <th>Fresh</th>\n",
       "      <th>Milk</th>\n",
       "      <th>Grocery</th>\n",
       "      <th>Frozen</th>\n",
       "      <th>Detergents_Paper</th>\n",
       "      <th>Delicassen</th>\n",
       "    </tr>\n",
       "  </thead>\n",
       "  <tbody>\n",
       "    <tr>\n",
       "      <th>0</th>\n",
       "      <td>2</td>\n",
       "      <td>3</td>\n",
       "      <td>12669</td>\n",
       "      <td>9656</td>\n",
       "      <td>7561</td>\n",
       "      <td>214</td>\n",
       "      <td>2674</td>\n",
       "      <td>1338</td>\n",
       "    </tr>\n",
       "    <tr>\n",
       "      <th>1</th>\n",
       "      <td>2</td>\n",
       "      <td>3</td>\n",
       "      <td>7057</td>\n",
       "      <td>9810</td>\n",
       "      <td>9568</td>\n",
       "      <td>1762</td>\n",
       "      <td>3293</td>\n",
       "      <td>1776</td>\n",
       "    </tr>\n",
       "    <tr>\n",
       "      <th>2</th>\n",
       "      <td>2</td>\n",
       "      <td>3</td>\n",
       "      <td>6353</td>\n",
       "      <td>8808</td>\n",
       "      <td>7684</td>\n",
       "      <td>2405</td>\n",
       "      <td>3516</td>\n",
       "      <td>7844</td>\n",
       "    </tr>\n",
       "    <tr>\n",
       "      <th>3</th>\n",
       "      <td>1</td>\n",
       "      <td>3</td>\n",
       "      <td>13265</td>\n",
       "      <td>1196</td>\n",
       "      <td>4221</td>\n",
       "      <td>6404</td>\n",
       "      <td>507</td>\n",
       "      <td>1788</td>\n",
       "    </tr>\n",
       "    <tr>\n",
       "      <th>4</th>\n",
       "      <td>2</td>\n",
       "      <td>3</td>\n",
       "      <td>22615</td>\n",
       "      <td>5410</td>\n",
       "      <td>7198</td>\n",
       "      <td>3915</td>\n",
       "      <td>1777</td>\n",
       "      <td>5185</td>\n",
       "    </tr>\n",
       "  </tbody>\n",
       "</table>\n",
       "</div>"
      ],
      "text/plain": [
       "   Channel  Region  Fresh  Milk  Grocery  Frozen  Detergents_Paper  Delicassen\n",
       "0        2       3  12669  9656     7561     214              2674        1338\n",
       "1        2       3   7057  9810     9568    1762              3293        1776\n",
       "2        2       3   6353  8808     7684    2405              3516        7844\n",
       "3        1       3  13265  1196     4221    6404               507        1788\n",
       "4        2       3  22615  5410     7198    3915              1777        5185"
      ]
     },
     "execution_count": 5,
     "metadata": {},
     "output_type": "execute_result"
    }
   ],
   "source": [
    "df.head()"
   ]
  },
  {
   "cell_type": "code",
   "execution_count": 6,
   "metadata": {
    "collapsed": true
   },
   "outputs": [
    {
     "name": "stdout",
     "output_type": "stream",
     "text": [
      "<class 'pandas.core.frame.DataFrame'>\n",
      "RangeIndex: 440 entries, 0 to 439\n",
      "Data columns (total 8 columns):\n",
      " #   Column            Non-Null Count  Dtype\n",
      "---  ------            --------------  -----\n",
      " 0   Channel           440 non-null    int64\n",
      " 1   Region            440 non-null    int64\n",
      " 2   Fresh             440 non-null    int64\n",
      " 3   Milk              440 non-null    int64\n",
      " 4   Grocery           440 non-null    int64\n",
      " 5   Frozen            440 non-null    int64\n",
      " 6   Detergents_Paper  440 non-null    int64\n",
      " 7   Delicassen        440 non-null    int64\n",
      "dtypes: int64(8)\n",
      "memory usage: 27.6 KB\n"
     ]
    }
   ],
   "source": [
    "df.info()"
   ]
  },
  {
   "cell_type": "code",
   "execution_count": 7,
   "metadata": {
    "collapsed": true
   },
   "outputs": [
    {
     "data": {
      "text/plain": [
       "Channel              0.760951\n",
       "Region              -1.283627\n",
       "Fresh                2.561323\n",
       "Milk                 4.053755\n",
       "Grocery              3.587429\n",
       "Frozen               5.907986\n",
       "Detergents_Paper     3.631851\n",
       "Delicassen          11.151586\n",
       "dtype: float64"
      ]
     },
     "execution_count": 7,
     "metadata": {},
     "output_type": "execute_result"
    }
   ],
   "source": [
    "df.skew()"
   ]
  },
  {
   "cell_type": "markdown",
   "metadata": {},
   "source": [
    "## Data Cleaning"
   ]
  },
  {
   "cell_type": "code",
   "execution_count": 10,
   "metadata": {
    "collapsed": true
   },
   "outputs": [
    {
     "data": {
      "text/plain": [
       "Channel             0\n",
       "Region              0\n",
       "Fresh               0\n",
       "Milk                0\n",
       "Grocery             0\n",
       "Frozen              0\n",
       "Detergents_Paper    0\n",
       "Delicassen          0\n",
       "dtype: int64"
      ]
     },
     "execution_count": 10,
     "metadata": {},
     "output_type": "execute_result"
    }
   ],
   "source": [
    "df.isnull().sum()"
   ]
  },
  {
   "cell_type": "code",
   "execution_count": 8,
   "metadata": {
    "collapsed": true
   },
   "outputs": [
    {
     "name": "stdout",
     "output_type": "stream",
     "text": [
      "(435, 8)\n"
     ]
    },
    {
     "data": {
      "text/plain": [
       "Channel              0.742849\n",
       "Region              -1.281134\n",
       "Fresh                1.445511\n",
       "Milk                 4.122928\n",
       "Grocery              3.594848\n",
       "Frozen               6.236876\n",
       "Detergents_Paper     3.615681\n",
       "Delicassen          11.349132\n",
       "dtype: float64"
      ]
     },
     "execution_count": 8,
     "metadata": {},
     "output_type": "execute_result"
    }
   ],
   "source": [
    "df = df[df.Fresh<df.Fresh.quantile(0.99)]\n",
    "print(df.shape)\n",
    "df.skew()"
   ]
  },
  {
   "cell_type": "code",
   "execution_count": 9,
   "metadata": {
    "collapsed": true
   },
   "outputs": [
    {
     "name": "stdout",
     "output_type": "stream",
     "text": [
      "(430, 8)\n"
     ]
    },
    {
     "data": {
      "text/plain": [
       "Channel             0.769855\n",
       "Region             -1.263375\n",
       "Fresh               1.478508\n",
       "Milk                2.175543\n",
       "Grocery             2.484004\n",
       "Frozen              6.564497\n",
       "Detergents_Paper    3.211174\n",
       "Delicassen          4.433185\n",
       "dtype: float64"
      ]
     },
     "execution_count": 9,
     "metadata": {},
     "output_type": "execute_result"
    }
   ],
   "source": [
    "df = df[df.Milk<df.Milk.quantile(0.99)]\n",
    "print(df.shape)\n",
    "df.skew()"
   ]
  },
  {
   "cell_type": "markdown",
   "metadata": {},
   "source": [
    "### Clustering on two features"
   ]
  },
  {
   "cell_type": "code",
   "execution_count": 11,
   "metadata": {},
   "outputs": [],
   "source": [
    "df2 = df[['Fresh','Milk']]"
   ]
  },
  {
   "cell_type": "code",
   "execution_count": 12,
   "metadata": {},
   "outputs": [],
   "source": [
    "from sklearn.preprocessing import StandardScaler\n",
    "sc = StandardScaler()\n",
    "df3 = sc.fit_transform(df2)"
   ]
  },
  {
   "cell_type": "code",
   "execution_count": 18,
   "metadata": {},
   "outputs": [],
   "source": [
    "from sklearn.cluster import KMeans\n",
    "model = KMeans(n_clusters=3,random_state=5,verbose=True)"
   ]
  },
  {
   "cell_type": "code",
   "execution_count": 19,
   "metadata": {
    "collapsed": true
   },
   "outputs": [
    {
     "name": "stdout",
     "output_type": "stream",
     "text": [
      "Initialization complete\n",
      "Iteration 0, inertia 499.2822208792877\n",
      "Iteration 1, inertia 392.4856872735605\n",
      "Iteration 2, inertia 352.8725970770853\n",
      "Iteration 3, inertia 337.3811293485196\n",
      "Iteration 4, inertia 332.06832162137414\n",
      "Iteration 5, inertia 328.50487967595103\n",
      "Iteration 6, inertia 327.2996235173168\n",
      "Iteration 7, inertia 326.1070920780729\n",
      "Iteration 8, inertia 325.27237003508037\n",
      "Iteration 9, inertia 323.7621379094584\n",
      "Iteration 10, inertia 322.3081644979446\n",
      "Iteration 11, inertia 321.7145934047024\n",
      "Iteration 12, inertia 321.54712687565507\n",
      "Iteration 13, inertia 321.3784438700311\n",
      "Iteration 14, inertia 321.3381581621964\n",
      "Converged at iteration 14: center shift 0.0 within tolerance 9.999999999999998e-05\n",
      "Initialization complete\n",
      "Iteration 0, inertia 470.0022629134936\n",
      "Iteration 1, inertia 330.8011215001939\n",
      "Iteration 2, inertia 324.68595697673527\n",
      "Iteration 3, inertia 323.20279226561104\n",
      "Iteration 4, inertia 322.3309762054995\n",
      "Iteration 5, inertia 321.60055051396785\n",
      "Iteration 6, inertia 321.4668563085714\n",
      "Iteration 7, inertia 321.43768903179387\n",
      "Iteration 8, inertia 321.3741196984483\n",
      "Iteration 9, inertia 321.3381581621964\n",
      "Converged at iteration 9: center shift 0.0 within tolerance 9.999999999999998e-05\n",
      "Initialization complete\n",
      "Iteration 0, inertia 394.97048700723025\n",
      "Iteration 1, inertia 329.3952879266587\n",
      "Iteration 2, inertia 324.7778106371488\n",
      "Iteration 3, inertia 323.1892258635564\n",
      "Iteration 4, inertia 322.3309762054995\n",
      "Iteration 5, inertia 321.60055051396785\n",
      "Iteration 6, inertia 321.4668563085714\n",
      "Iteration 7, inertia 321.43768903179387\n",
      "Iteration 8, inertia 321.3741196984483\n",
      "Iteration 9, inertia 321.3381581621964\n",
      "Converged at iteration 9: center shift 0.0 within tolerance 9.999999999999998e-05\n",
      "Initialization complete\n",
      "Iteration 0, inertia 586.1636475008952\n",
      "Iteration 1, inertia 440.3946204673276\n",
      "Iteration 2, inertia 371.63129975416246\n",
      "Iteration 3, inertia 345.7013668386313\n",
      "Iteration 4, inertia 335.9537602385172\n",
      "Iteration 5, inertia 330.353281738023\n",
      "Iteration 6, inertia 327.43477768069386\n",
      "Iteration 7, inertia 326.24180268433844\n",
      "Iteration 8, inertia 325.43580329885975\n",
      "Iteration 9, inertia 324.04177384394933\n",
      "Iteration 10, inertia 322.4180494075333\n",
      "Iteration 11, inertia 321.7145934047024\n",
      "Iteration 12, inertia 321.54712687565507\n",
      "Iteration 13, inertia 321.3784438700311\n",
      "Iteration 14, inertia 321.3381581621964\n",
      "Converged at iteration 14: center shift 0.0 within tolerance 9.999999999999998e-05\n",
      "Initialization complete\n",
      "Iteration 0, inertia 502.28455452992955\n",
      "Iteration 1, inertia 437.0337831990816\n",
      "Iteration 2, inertia 395.5232423490299\n",
      "Iteration 3, inertia 356.6803605279823\n",
      "Iteration 4, inertia 336.0457189075926\n",
      "Iteration 5, inertia 329.67568677604334\n",
      "Iteration 6, inertia 327.05816057865974\n",
      "Iteration 7, inertia 323.7435986637443\n",
      "Iteration 8, inertia 322.2639962227152\n",
      "Iteration 9, inertia 322.0668582339476\n",
      "Iteration 10, inertia 321.82661707922716\n",
      "Iteration 11, inertia 321.65977904193727\n",
      "Iteration 12, inertia 321.5816988046528\n",
      "Iteration 13, inertia 321.5492755059238\n",
      "Converged at iteration 13: center shift 0.0 within tolerance 9.999999999999998e-05\n",
      "Initialization complete\n",
      "Iteration 0, inertia 545.4492763271999\n",
      "Iteration 1, inertia 336.4336008023014\n",
      "Iteration 2, inertia 328.79987284790593\n",
      "Iteration 3, inertia 327.17296706747794\n",
      "Iteration 4, inertia 325.3953117989593\n",
      "Iteration 5, inertia 322.47950438653135\n",
      "Iteration 6, inertia 322.01992658072913\n",
      "Iteration 7, inertia 321.8246951165626\n",
      "Iteration 8, inertia 321.65977904193727\n",
      "Iteration 9, inertia 321.5816988046528\n",
      "Iteration 10, inertia 321.5492755059238\n",
      "Converged at iteration 10: center shift 0.0 within tolerance 9.999999999999998e-05\n",
      "Initialization complete\n",
      "Iteration 0, inertia 447.1435431028541\n",
      "Iteration 1, inertia 358.9747133992221\n",
      "Iteration 2, inertia 328.9186716640216\n",
      "Iteration 3, inertia 322.7215496375654\n",
      "Iteration 4, inertia 321.8739276593169\n",
      "Iteration 5, inertia 321.57125908761486\n",
      "Iteration 6, inertia 321.51875967814107\n",
      "Converged at iteration 6: center shift 0.0 within tolerance 9.999999999999998e-05\n",
      "Initialization complete\n",
      "Iteration 0, inertia 530.6669377749736\n",
      "Iteration 1, inertia 354.33720359774844\n",
      "Iteration 2, inertia 339.74488395390466\n",
      "Iteration 3, inertia 330.4043031362888\n",
      "Iteration 4, inertia 327.4633276404258\n",
      "Iteration 5, inertia 324.39241934033527\n",
      "Iteration 6, inertia 322.1554537116217\n",
      "Iteration 7, inertia 321.88958887071743\n",
      "Iteration 8, inertia 321.6972673077811\n",
      "Iteration 9, inertia 321.4863408907439\n",
      "Iteration 10, inertia 321.413906796151\n",
      "Iteration 11, inertia 321.35547586082873\n",
      "Converged at iteration 11: center shift 0.0 within tolerance 9.999999999999998e-05\n",
      "Initialization complete\n",
      "Iteration 0, inertia 376.08251188584836\n",
      "Iteration 1, inertia 336.23335463878743\n",
      "Iteration 2, inertia 330.7286094260309\n",
      "Iteration 3, inertia 327.85822795525485\n",
      "Iteration 4, inertia 326.2677942613305\n",
      "Iteration 5, inertia 325.0157186649094\n",
      "Iteration 6, inertia 323.95266019014633\n",
      "Iteration 7, inertia 322.50791221296805\n",
      "Iteration 8, inertia 321.84330123391464\n",
      "Iteration 9, inertia 321.44365575849116\n",
      "Iteration 10, inertia 321.3499880344574\n",
      "Converged at iteration 10: center shift 9.192667720506239e-05 within tolerance 9.999999999999998e-05\n",
      "Initialization complete\n",
      "Iteration 0, inertia 444.7689971420726\n",
      "Iteration 1, inertia 356.18753634610323\n",
      "Iteration 2, inertia 332.2323504869522\n",
      "Iteration 3, inertia 325.3827342226529\n",
      "Iteration 4, inertia 323.2780346043412\n",
      "Iteration 5, inertia 322.14318326112016\n",
      "Iteration 6, inertia 321.5103042220228\n",
      "Iteration 7, inertia 321.4668563085714\n",
      "Iteration 8, inertia 321.43768903179387\n",
      "Iteration 9, inertia 321.3741196984483\n",
      "Iteration 10, inertia 321.3381581621964\n",
      "Converged at iteration 10: center shift 0.0 within tolerance 9.999999999999998e-05\n"
     ]
    },
    {
     "data": {
      "text/plain": [
       "KMeans(n_clusters=3, random_state=5, verbose=True)"
      ]
     },
     "execution_count": 19,
     "metadata": {},
     "output_type": "execute_result"
    }
   ],
   "source": [
    "model.fit(df3)"
   ]
  },
  {
   "cell_type": "code",
   "execution_count": 15,
   "metadata": {
    "collapsed": true
   },
   "outputs": [
    {
     "name": "stdout",
     "output_type": "stream",
     "text": [
      "[[-0.50598913  1.91649466]\n",
      " [-0.45739985 -0.34709627]\n",
      " [ 1.4251351  -0.1989875 ]]\n"
     ]
    }
   ],
   "source": [
    "print(model.cluster_centers_)"
   ]
  },
  {
   "cell_type": "code",
   "execution_count": 16,
   "metadata": {
    "collapsed": true
   },
   "outputs": [
    {
     "data": {
      "text/html": [
       "<div>\n",
       "<style scoped>\n",
       "    .dataframe tbody tr th:only-of-type {\n",
       "        vertical-align: middle;\n",
       "    }\n",
       "\n",
       "    .dataframe tbody tr th {\n",
       "        vertical-align: top;\n",
       "    }\n",
       "\n",
       "    .dataframe thead th {\n",
       "        text-align: right;\n",
       "    }\n",
       "</style>\n",
       "<table border=\"1\" class=\"dataframe\">\n",
       "  <thead>\n",
       "    <tr style=\"text-align: right;\">\n",
       "      <th></th>\n",
       "      <th>Fresh</th>\n",
       "      <th>Milk</th>\n",
       "    </tr>\n",
       "  </thead>\n",
       "  <tbody>\n",
       "    <tr>\n",
       "      <th>0</th>\n",
       "      <td>-0.505989</td>\n",
       "      <td>1.916495</td>\n",
       "    </tr>\n",
       "    <tr>\n",
       "      <th>1</th>\n",
       "      <td>-0.457400</td>\n",
       "      <td>-0.347096</td>\n",
       "    </tr>\n",
       "    <tr>\n",
       "      <th>2</th>\n",
       "      <td>1.425135</td>\n",
       "      <td>-0.198987</td>\n",
       "    </tr>\n",
       "  </tbody>\n",
       "</table>\n",
       "</div>"
      ],
      "text/plain": [
       "      Fresh      Milk\n",
       "0 -0.505989  1.916495\n",
       "1 -0.457400 -0.347096\n",
       "2  1.425135 -0.198987"
      ]
     },
     "execution_count": 16,
     "metadata": {},
     "output_type": "execute_result"
    }
   ],
   "source": [
    "pd.DataFrame(model.cluster_centers_,columns=df2.columns)"
   ]
  },
  {
   "cell_type": "code",
   "execution_count": 17,
   "metadata": {
    "collapsed": true
   },
   "outputs": [
    {
     "data": {
      "image/png": "[encoded data removed]",
      "text/plain": [
       "<Figure size 432x288 with 2 Axes>"
      ]
     },
     "metadata": {
      "needs_background": "light"
     },
     "output_type": "display_data"
    }
   ],
   "source": [
    "sns.heatmap(pd.DataFrame(model.cluster_centers_,columns=df2.columns),annot=True,cmap='coolwarm')\n",
    "plt.show()"
   ]
  },
  {
   "cell_type": "code",
   "execution_count": 20,
   "metadata": {},
   "outputs": [
    {
     "data": {
      "image/png": "[encoded data removed]",
      "text/plain": [
       "<Figure size 432x288 with 1 Axes>"
      ]
     },
     "metadata": {
      "needs_background": "light"
     },
     "output_type": "display_data"
    }
   ],
   "source": [
    "sns.countplot(model.labels_)\n",
    "plt.show()"
   ]
  },
  {
   "cell_type": "markdown",
   "metadata": {},
   "source": [
    "### Clustering for 4 features"
   ]
  },
  {
   "cell_type": "code",
   "execution_count": 21,
   "metadata": {},
   "outputs": [
    {
     "data": {
      "text/plain": [
       "KMeans(n_clusters=3, random_state=5)"
      ]
     },
     "execution_count": 21,
     "metadata": {},
     "output_type": "execute_result"
    }
   ],
   "source": [
    "df4 = df[['Fresh','Milk','Frozen','Grocery']]\n",
    "df5 = sc.fit_transform(df4)\n",
    "\n",
    "model2 = KMeans(n_clusters=3,random_state=5)\n",
    "model2.fit(df5)"
   ]
  },
  {
   "cell_type": "code",
   "execution_count": 23,
   "metadata": {},
   "outputs": [
    {
     "data": {
      "image/png": "[encoded data removed]",
      "text/plain": [
       "<Figure size 432x288 with 2 Axes>"
      ]
     },
     "metadata": {
      "needs_background": "light"
     },
     "output_type": "display_data"
    }
   ],
   "source": [
    "sns.heatmap(pd.DataFrame(model2.cluster_centers_,columns=df4.columns),annot=True,cmap='coolwarm')\n",
    "plt.show()"
   ]
  },
  {
   "cell_type": "code",
   "execution_count": 24,
   "metadata": {},
   "outputs": [
    {
     "data": {
      "image/png": "[encoded data removed]",
      "text/plain": [
       "<Figure size 432x288 with 1 Axes>"
      ]
     },
     "metadata": {
      "needs_background": "light"
     },
     "output_type": "display_data"
    }
   ],
   "source": [
    "sns.countplot(model2.labels_)\n",
    "plt.show()"
   ]
  },
  {
   "cell_type": "markdown",
   "metadata": {},
   "source": [
    "# Elbow Methods to get best value of k"
   ]
  },
  {
   "cell_type": "code",
   "execution_count": 25,
   "metadata": {},
   "outputs": [],
   "source": [
    "k = []\n",
    "inertia = []\n",
    "for i in range(1,12):\n",
    "    model = KMeans(n_clusters=i,random_state=5)\n",
    "    model.fit(df5)\n",
    "    k.append(i)\n",
    "    inertia.append(model.inertia_)"
   ]
  },
  {
   "cell_type": "code",
   "execution_count": 27,
   "metadata": {},
   "outputs": [
    {
     "data": {
      "image/png": "[encoded data removed]",
      "text/plain": [
       "<Figure size 864x360 with 1 Axes>"
      ]
     },
     "metadata": {
      "needs_background": "light"
     },
     "output_type": "display_data"
    }
   ],
   "source": [
    "plt.figure(figsize=(12,5))\n",
    "plt.scatter(k,inertia,c='g')\n",
    "plt.plot(k,inertia,c='r')\n",
    "plt.grid(True)\n",
    "plt.show()"
   ]
  },
  {
   "cell_type": "code",
   "execution_count": null,
   "metadata": {},
   "outputs": [],
   "source": [
    "from sklearn.cluster import AgglomerativeClustering"
   ]
  }
 ],
 "metadata": {
  "kernelspec": {
   "display_name": "Python 3",
   "language": "python",
   "name": "python3"
  },
  "language_info": {
   "codemirror_mode": {
    "name": "ipython",
    "version": 3
   },
   "file_extension": ".py",
   "mimetype": "text/x-python",
   "name": "python",
   "nbconvert_exporter": "python",
   "pygments_lexer": "ipython3",
   "version": "3.7.4"
  },
  "latex_envs": {
   "LaTeX_envs_menu_present": true,
   "autoclose": false,
   "autocomplete": true,
   "bibliofile": "biblio.bib",
   "cite_by": "apalike",
   "current_citInitial": 1,
   "eqLabelWithNumbers": true,
   "eqNumInitial": 1,
   "hotkeys": {
    "equation": "Ctrl-E",
    "itemize": "Ctrl-I"
   },
   "labels_anchors": false,
   "latex_user_defs": false,
   "report_style_numbering": false,
   "user_envs_cfg": false
  }
 },
 "nbformat": 4,
 "nbformat_minor": 2
}
