{
 "cells": [
  {
   "cell_type": "markdown",
   "metadata": {},
   "source": [
    "# Neural Network Implementation using tensorflow - MNIST Fashion dataset"
   ]
  },
  {
   "cell_type": "code",
   "execution_count": 1,
   "metadata": {
    "collapsed": true
   },
   "outputs": [
    {
     "name": "stderr",
     "output_type": "stream",
     "text": [
      "C:\\Users\\anshu\\AppData\\Roaming\\Python\\Python37\\site-packages\\numpy\\_distributor_init.py:32: UserWarning: loaded more than 1 DLL from .libs:\n",
      "C:\\Users\\anshu\\AppData\\Roaming\\Python\\Python37\\site-packages\\numpy\\.libs\\libopenblas.NOIJJG62EMASZI6NYURL6JBKM4EVBGM7.gfortran-win_amd64.dll\n",
      "C:\\Users\\anshu\\AppData\\Roaming\\Python\\Python37\\site-packages\\numpy\\.libs\\libopenblas.QVLO2T66WEPI7JZ63PS3HMOHFEY472BC.gfortran-win_amd64.dll\n",
      "  stacklevel=1)\n"
     ]
    }
   ],
   "source": [
    "import pandas as pd\n",
    "import numpy as np\n",
    "import matplotlib.pyplot as plt\n",
    "from tensorflow.keras.datasets import fashion_mnist"
   ]
  },
  {
   "cell_type": "code",
   "execution_count": 3,
   "metadata": {
    "scrolled": true
   },
   "outputs": [
    {
     "name": "stdout",
     "output_type": "stream",
     "text": [
      "(60000, 28, 28)\n",
      "(60000,)\n",
      "(10000, 28, 28)\n",
      "(10000,)\n"
     ]
    }
   ],
   "source": [
    "(xtrain,ytrain),(xtest,ytest) = fashion_mnist.load_data()\n",
    "# xtrain = collection of 60000 images of shape 28x28, ytrain = corresponding labels for xtrain\n",
    "# xtest = collection of 10000 images of shape 28x28, ytest = corresponding labels for xtest\n",
    "print(xtrain.shape)\n",
    "print(ytrain.shape)\n",
    "print(xtest.shape)\n",
    "print(ytest.shape)"
   ]
  },
  {
   "cell_type": "code",
   "execution_count": 4,
   "metadata": {},
   "outputs": [],
   "source": [
    "cnames = [\"T-shirt/top\",\"Trouser\",\"Pullover\",\"Dress\",\"Coat\",\"Sandal\",\"Shirt\",\"Sneaker\",\"Bag\",\"Ankle boot\"]"
   ]
  },
  {
   "cell_type": "code",
   "execution_count": 8,
   "metadata": {},
   "outputs": [
    {
     "data": {
      "image/png": "[encoded data removed]",
      "text/plain": [
       "<Figure size 432x288 with 1 Axes>"
      ]
     },
     "metadata": {
      "needs_background": "light"
     },
     "output_type": "display_data"
    }
   ],
   "source": [
    "plt.imshow(xtrain[200],cmap='gray')\n",
    "plt.show()"
   ]
  },
  {
   "cell_type": "code",
   "execution_count": 9,
   "metadata": {},
   "outputs": [
    {
     "name": "stdout",
     "output_type": "stream",
     "text": [
      "8\n"
     ]
    },
    {
     "data": {
      "text/plain": [
       "'Bag'"
      ]
     },
     "execution_count": 9,
     "metadata": {},
     "output_type": "execute_result"
    }
   ],
   "source": [
    "print(ytrain[200])\n",
    "cnames[ytrain[200]]"
   ]
  },
  {
   "cell_type": "markdown",
   "metadata": {},
   "source": [
    "## Preprocessing"
   ]
  },
  {
   "cell_type": "code",
   "execution_count": null,
   "metadata": {},
   "outputs": [],
   "source": [
    "# images = 28x28\n",
    "# number of neurons on input layer = 28*28 = 784\n",
    "# number of neurons on output layer = 10"
   ]
  },
  {
   "cell_type": "code",
   "execution_count": 10,
   "metadata": {},
   "outputs": [
    {
     "name": "stdout",
     "output_type": "stream",
     "text": [
      "(60000,)\n",
      "(10000,)\n",
      "(60000, 10)\n",
      "(10000, 10)\n"
     ]
    }
   ],
   "source": [
    "# onehot encode the labels\n",
    "from tensorflow.keras.utils import to_categorical\n",
    "print(ytrain.shape)\n",
    "print(ytest.shape)\n",
    "ytrain = to_categorical(ytrain)\n",
    "ytest = to_categorical(ytest)\n",
    "print(ytrain.shape)\n",
    "print(ytest.shape)\n"
   ]
  },
  {
   "cell_type": "markdown",
   "metadata": {},
   "source": [
    "## MOdelling the Neural Network using Tensorflow"
   ]
  },
  {
   "cell_type": "code",
   "execution_count": 11,
   "metadata": {},
   "outputs": [],
   "source": [
    "from tensorflow.keras import models,layers"
   ]
  },
  {
   "cell_type": "code",
   "execution_count": 12,
   "metadata": {},
   "outputs": [],
   "source": [
    "# program the neural network\n",
    "input_layer = layers.Input(shape=(28,28))\n",
    "\n",
    "# add the flatten layer to convert the 28x28 into 1x784\n",
    "flatten = layers.Flatten()(input_layer)\n",
    "\n",
    "# add the first hidden layer - fully connected layer\n",
    "fc1 = layers.Dense(300,activation='relu')(flatten)\n",
    "\n",
    "# add another hidden layer - fully connected layer\n",
    "fc2 = layers.Dense(100,activation='relu')(fc1)\n",
    "\n",
    "# add output layer\n",
    "output_layer = layers.Dense(10,activation='softmax')(fc2)\n",
    "\n",
    "# building the final model\n",
    "model = models.Model(inputs=input_layer,outputs=output_layer)"
   ]
  },
  {
   "cell_type": "code",
   "execution_count": 13,
   "metadata": {},
   "outputs": [
    {
     "name": "stdout",
     "output_type": "stream",
     "text": [
      "Model: \"model\"\n",
      "_________________________________________________________________\n",
      "Layer (type)                 Output Shape              Param #   \n",
      "=================================================================\n",
      "input_1 (InputLayer)         [(None, 28, 28)]          0         \n",
      "_________________________________________________________________\n",
      "flatten (Flatten)            (None, 784)               0         \n",
      "_________________________________________________________________\n",
      "dense (Dense)                (None, 300)               235500    \n",
      "_________________________________________________________________\n",
      "dense_1 (Dense)              (None, 100)               30100     \n",
      "_________________________________________________________________\n",
      "dense_2 (Dense)              (None, 10)                1010      \n",
      "=================================================================\n",
      "Total params: 266,610\n",
      "Trainable params: 266,610\n",
      "Non-trainable params: 0\n",
      "_________________________________________________________________\n"
     ]
    }
   ],
   "source": [
    "model.summary()"
   ]
  },
  {
   "cell_type": "code",
   "execution_count": 14,
   "metadata": {},
   "outputs": [
    {
     "name": "stdout",
     "output_type": "stream",
     "text": [
      "Train on 60000 samples, validate on 10000 samples\n",
      "Epoch 1/10\n",
      "60000/60000 [==============================] - 2s 34us/sample - loss: 18.6735 - accuracy: 0.6477 - val_loss: 3.6550 - val_accuracy: 0.7513\n",
      "Epoch 2/10\n",
      "60000/60000 [==============================] - 1s 18us/sample - loss: 2.8491 - accuracy: 0.7746 - val_loss: 2.5310 - val_accuracy: 0.7816\n",
      "Epoch 3/10\n",
      "60000/60000 [==============================] - 1s 18us/sample - loss: 2.0719 - accuracy: 0.7937 - val_loss: 2.1797 - val_accuracy: 0.7867\n",
      "Epoch 4/10\n",
      "60000/60000 [==============================] - 1s 18us/sample - loss: 1.6078 - accuracy: 0.8107 - val_loss: 1.5639 - val_accuracy: 0.8095\n",
      "Epoch 5/10\n",
      "60000/60000 [==============================] - 1s 18us/sample - loss: 1.3358 - accuracy: 0.8214 - val_loss: 1.4149 - val_accuracy: 0.8135\n",
      "Epoch 6/10\n",
      "60000/60000 [==============================] - 1s 18us/sample - loss: 1.0878 - accuracy: 0.8325 - val_loss: 1.3376 - val_accuracy: 0.8098\n",
      "Epoch 7/10\n",
      "60000/60000 [==============================] - 1s 18us/sample - loss: 0.9975 - accuracy: 0.8358 - val_loss: 1.4572 - val_accuracy: 0.7937\n",
      "Epoch 8/10\n",
      "60000/60000 [==============================] - 1s 18us/sample - loss: 0.8834 - accuracy: 0.8439 - val_loss: 1.2458 - val_accuracy: 0.8111\n",
      "Epoch 9/10\n",
      "60000/60000 [==============================] - 1s 18us/sample - loss: 0.8049 - accuracy: 0.8480 - val_loss: 1.0419 - val_accuracy: 0.8277\n",
      "Epoch 10/10\n",
      "60000/60000 [==============================] - 1s 18us/sample - loss: 0.7103 - accuracy: 0.8548 - val_loss: 0.9880 - val_accuracy: 0.8338\n"
     ]
    },
    {
     "data": {
      "text/plain": [
       "<tensorflow.python.keras.callbacks.History at 0x20dd9c34988>"
      ]
     },
     "execution_count": 14,
     "metadata": {},
     "output_type": "execute_result"
    }
   ],
   "source": [
    "model.compile(loss='categorical_crossentropy',metrics=['accuracy'],optimizer='adam')\n",
    "model.fit(xtrain,ytrain,epochs=10,batch_size=1000,validation_data=(xtest,ytest))"
   ]
  },
  {
   "cell_type": "code",
   "execution_count": 15,
   "metadata": {},
   "outputs": [
    {
     "data": {
      "image/png": "[encoded data removed]",
      "text/plain": [
       "<Figure size 432x288 with 1 Axes>"
      ]
     },
     "metadata": {
      "needs_background": "light"
     },
     "output_type": "display_data"
    }
   ],
   "source": [
    "plt.imshow(xtest[145],cmap='gray')\n",
    "plt.show()"
   ]
  },
  {
   "cell_type": "code",
   "execution_count": 16,
   "metadata": {},
   "outputs": [
    {
     "data": {
      "text/plain": [
       "array([[1.4264919e-01, 1.0147294e-18, 7.8020269e-01, 2.7770034e-06,\n",
       "        2.8821090e-05, 2.2519902e-24, 7.7115826e-02, 2.6855335e-21,\n",
       "        7.3342187e-07, 1.0873657e-36]], dtype=float32)"
      ]
     },
     "execution_count": 16,
     "metadata": {},
     "output_type": "execute_result"
    }
   ],
   "source": [
    "prediction = model.predict(xtest[145].reshape(1,28,28))\n",
    "prediction"
   ]
  },
  {
   "cell_type": "code",
   "execution_count": 17,
   "metadata": {},
   "outputs": [
    {
     "data": {
      "text/plain": [
       "'Pullover'"
      ]
     },
     "execution_count": 17,
     "metadata": {},
     "output_type": "execute_result"
    }
   ],
   "source": [
    "output = np.argmax(prediction)\n",
    "cnames[output]"
   ]
  },
  {
   "cell_type": "code",
   "execution_count": null,
   "metadata": {},
   "outputs": [],
   "source": []
  }
 ],
 "metadata": {
  "kernelspec": {
   "display_name": "Python 3",
   "language": "python",
   "name": "python3"
  },
  "language_info": {
   "codemirror_mode": {
    "name": "ipython",
    "version": 3
   },
   "file_extension": ".py",
   "mimetype": "text/x-python",
   "name": "python",
   "nbconvert_exporter": "python",
   "pygments_lexer": "ipython3",
   "version": "3.7.4"
  },
  "latex_envs": {
   "LaTeX_envs_menu_present": true,
   "autoclose": false,
   "autocomplete": true,
   "bibliofile": "biblio.bib",
   "cite_by": "apalike",
   "current_citInitial": 1,
   "eqLabelWithNumbers": true,
   "eqNumInitial": 1,
   "hotkeys": {
    "equation": "Ctrl-E",
    "itemize": "Ctrl-I"
   },
   "labels_anchors": false,
   "latex_user_defs": false,
   "report_style_numbering": false,
   "user_envs_cfg": false
  }
 },
 "nbformat": 4,
 "nbformat_minor": 2
}
