{
  "nbformat": 4,
  "nbformat_minor": 0,
  "metadata": {
    "colab": {
      "name": "Transfer Learning - NLP - Universal Sentence Encoder.ipynb",
      "provenance": [],
      "collapsed_sections": [],
      "authorship_tag": "ABX9TyMVFjUcFD/ZtOT6DgR1/Tt1",
      "include_colab_link": true
    },
    "kernelspec": {
      "name": "python3",
      "display_name": "Python 3"
    }
  },
  "cells": [
    {
      "cell_type": "markdown",
      "metadata": {
        "id": "view-in-github",
        "colab_type": "text"
      },
      "source": [
        "<a href=\"https://colab.research.google.com/github/anshupandey/xebia_training_data/blob/main/Transfer_Learning_NLP_Universal_Sentence_Encoder.ipynb\" target=\"_parent\"><img src=\"https://colab.research.google.com/assets/colab-badge.svg\" alt=\"Open In Colab\"/></a>"
      ]
    },
    {
      "cell_type": "code",
      "metadata": {
        "id": "3mRd3jqVisNU"
      },
      "source": [
        "import tensorflow as tf\n",
        "import tensorflow_hub as hub"
      ],
      "execution_count": null,
      "outputs": []
    },
    {
      "cell_type": "code",
      "metadata": {
        "id": "VcTd__MTiwbE"
      },
      "source": [
        "url = \"https://tfhub.dev/google/universal-sentence-encoder/4\"\n",
        "model = hub.load(url)"
      ],
      "execution_count": null,
      "outputs": []
    },
    {
      "cell_type": "code",
      "metadata": {
        "id": "5YOVb8_Yi9Oy",
        "colab": {
          "base_uri": "https://localhost:8080/",
          "height": 34
        },
        "outputId": "cc7aecdf-cddd-41a8-a974-49f09937a08a"
      },
      "source": [
        "doc1 = [\"India\"]\n",
        "doc2 = [\"I love coding\"]\n",
        "doc3 = [\"I love python porgamming and Data Science. Machine Learning is amazing.\"]\n",
        "out1 = model(doc2)\n",
        "out1.shape"
      ],
      "execution_count": null,
      "outputs": [
        {
          "output_type": "execute_result",
          "data": {
            "text/plain": [
              "TensorShape([1, 512])"
            ]
          },
          "metadata": {
            "tags": []
          },
          "execution_count": 3
        }
      ]
    },
    {
      "cell_type": "code",
      "metadata": {
        "id": "Jc1TtKn5v9Tm",
        "colab": {
          "base_uri": "https://localhost:8080/",
          "height": 1000
        },
        "outputId": "738c9f17-9190-463d-e50b-2a62ed788f75"
      },
      "source": [
        "out1"
      ],
      "execution_count": null,
      "outputs": [
        {
          "output_type": "execute_result",
          "data": {
            "text/plain": [
              "<tf.Tensor: shape=(1, 512), dtype=float32, numpy=\n",
              "array([[ 5.63572384e-02, -4.97989468e-02,  8.43480378e-02,\n",
              "        -1.50855659e-02,  5.09931333e-02, -2.39458419e-02,\n",
              "        -9.82689410e-02, -2.08287500e-02,  2.38463078e-02,\n",
              "         1.33599890e-02,  2.94923522e-02, -1.30907195e-02,\n",
              "         3.08417436e-02,  3.55183668e-02,  6.04372509e-02,\n",
              "         9.85179618e-02,  6.19228743e-03, -4.85518388e-02,\n",
              "        -2.64902133e-02, -7.77265057e-02,  1.23961456e-02,\n",
              "         3.65440510e-02,  8.34085271e-02,  3.45718637e-02,\n",
              "        -4.20678072e-02,  9.39667318e-03, -5.90307973e-02,\n",
              "        -3.05654574e-02,  2.14274544e-02, -6.57784566e-02,\n",
              "        -1.04619274e-02,  9.80589986e-02, -1.05355866e-02,\n",
              "         1.86201499e-03, -9.14382003e-03, -3.27831134e-02,\n",
              "        -6.65506497e-02,  4.45533022e-02, -2.10189670e-02,\n",
              "         2.82769743e-02,  4.40075397e-02,  3.62040922e-02,\n",
              "        -4.92150476e-03,  3.72049212e-02,  4.03868146e-02,\n",
              "         3.28997746e-02, -3.15873660e-02,  3.99860553e-02,\n",
              "         5.09528071e-02, -1.05875432e-02,  6.04786025e-03,\n",
              "        -9.58970860e-02, -3.38219702e-02,  2.82037891e-02,\n",
              "         4.41260226e-02,  1.79165695e-02,  4.77448553e-02,\n",
              "         7.42017627e-02,  2.45434903e-02,  3.75645533e-02,\n",
              "        -1.59956627e-02, -3.71827278e-03,  1.13432566e-02,\n",
              "        -7.59732351e-02, -3.29377688e-02,  7.36749470e-02,\n",
              "        -4.81675230e-02,  3.39694768e-02, -2.73680221e-02,\n",
              "        -4.08309251e-02,  1.13754366e-02, -2.46480163e-02,\n",
              "        -7.21179694e-02, -1.45515865e-02, -8.73844791e-03,\n",
              "        -7.80415013e-02,  1.15447324e-02,  1.58090889e-03,\n",
              "        -3.13533433e-02,  2.31758393e-02,  4.45762090e-02,\n",
              "         3.61428969e-02,  6.41087890e-02, -6.25797361e-02,\n",
              "         4.10772907e-03,  4.62670401e-02,  3.01776337e-03,\n",
              "         1.71084031e-02, -6.20618090e-02, -3.58752385e-02,\n",
              "        -2.21247654e-02,  4.35291156e-02, -6.92161620e-02,\n",
              "         7.30161965e-02,  5.70939928e-02,  6.85769022e-02,\n",
              "        -4.05279770e-02,  3.55053991e-02,  1.56190581e-04,\n",
              "        -6.29509017e-02,  6.03830777e-02, -5.76318763e-02,\n",
              "         3.36154588e-02,  4.71351221e-02,  4.84231021e-03,\n",
              "         2.68166140e-03, -1.49270725e-02, -5.26931919e-02,\n",
              "        -1.28392344e-02, -1.40891913e-02,  1.14248293e-02,\n",
              "         4.94323634e-02, -4.27565631e-03, -1.25907902e-02,\n",
              "         3.73444939e-03, -3.89806628e-02,  2.05930527e-02,\n",
              "         8.48487094e-02,  1.77171249e-02,  6.92666471e-02,\n",
              "         2.98319943e-03,  2.45142449e-02,  6.56055957e-02,\n",
              "         3.85803767e-02, -6.93354383e-02,  5.38758822e-02,\n",
              "         5.10330833e-02, -3.68445702e-02,  6.93480074e-02,\n",
              "         8.38891324e-03, -3.27502638e-02,  6.52463436e-02,\n",
              "         1.40052736e-02,  4.42460515e-02,  1.84052829e-02,\n",
              "        -3.87121886e-02, -2.87695304e-02,  1.68600213e-02,\n",
              "         1.72293354e-02, -8.55067000e-03, -2.17618980e-02,\n",
              "        -6.10090196e-02,  2.99980473e-02, -1.54288942e-02,\n",
              "        -3.70393768e-02, -1.11095339e-01,  8.04059766e-03,\n",
              "        -1.28900269e-02,  1.13475202e-02, -6.84848875e-02,\n",
              "         3.37179215e-03,  7.44387833e-03, -9.63903069e-02,\n",
              "        -4.89743799e-02, -4.24503312e-02,  2.95192786e-02,\n",
              "         4.10149843e-02, -2.92722937e-02, -1.85990892e-02,\n",
              "         3.78918238e-02, -4.94459197e-02,  5.56597777e-04,\n",
              "         4.58604097e-02, -6.46344870e-02, -4.22547571e-02,\n",
              "         1.23247178e-02, -2.41949391e-02, -5.94856180e-02,\n",
              "         2.76582874e-02,  6.07483694e-03, -7.62844309e-02,\n",
              "         2.11666673e-02, -2.03168783e-02, -3.80796567e-02,\n",
              "        -2.14888528e-02,  1.40478637e-03,  7.81439841e-02,\n",
              "        -4.64107171e-02, -1.78858154e-02,  8.37138966e-02,\n",
              "        -3.57054851e-05, -5.72954156e-02, -1.85836535e-02,\n",
              "         2.17065122e-03,  7.63024613e-02, -1.40127838e-02,\n",
              "        -6.59242943e-02,  4.06287052e-02,  1.09662391e-01,\n",
              "         3.41708027e-02,  6.78894967e-02,  3.58868055e-02,\n",
              "         6.09998554e-02,  3.44962813e-03, -2.08914448e-02,\n",
              "        -4.76248469e-03,  4.05877568e-02,  9.97918919e-02,\n",
              "         2.27808561e-02, -1.50688821e-02, -6.12629056e-02,\n",
              "         1.79373194e-02,  2.62575410e-02,  8.01780745e-02,\n",
              "         3.41319852e-02, -3.68085690e-02,  5.76663315e-02,\n",
              "         3.45233642e-02, -5.15174270e-02,  3.56108025e-02,\n",
              "        -3.43079418e-02,  1.90998707e-02,  5.94509132e-02,\n",
              "        -2.48183068e-02, -6.34022281e-02, -1.39797861e-02,\n",
              "        -4.15189713e-02, -1.43632442e-02,  4.53993306e-02,\n",
              "         4.28248830e-02, -6.32135719e-02, -3.67882065e-02,\n",
              "         1.94906872e-02, -4.97112684e-02, -3.04834247e-02,\n",
              "         6.02674708e-02, -2.01530084e-02,  7.23448396e-02,\n",
              "         1.24001186e-02, -2.99985409e-02, -5.05484827e-02,\n",
              "         4.63156998e-02, -1.47949904e-02,  1.10711455e-01,\n",
              "         5.16085476e-02, -7.74487332e-02,  2.89965831e-02,\n",
              "         2.32558679e-02, -6.78875893e-02, -4.60490063e-02,\n",
              "        -4.84452099e-02,  4.91472185e-02,  3.32879797e-02,\n",
              "        -1.65467965e-03, -1.06707709e-02,  7.24383891e-02,\n",
              "        -6.92479592e-03,  1.82300713e-02, -9.07607283e-03,\n",
              "         4.79654297e-02, -1.08617269e-01, -5.71978986e-02,\n",
              "        -5.33010950e-03, -3.83768976e-03, -3.88228782e-02,\n",
              "         1.07377544e-02,  2.52668336e-02,  4.23630234e-04,\n",
              "         1.09094949e-02,  4.00086902e-02, -7.07925931e-02,\n",
              "        -4.70359102e-02, -4.23572846e-02,  1.14769964e-02,\n",
              "         1.00797981e-01, -3.65333110e-02,  4.05893475e-03,\n",
              "        -2.55071018e-02, -3.96320689e-03,  2.53363326e-02,\n",
              "        -3.21430378e-02, -3.61347981e-02, -1.43638514e-02,\n",
              "        -5.68071082e-02, -5.60864471e-02, -1.54243093e-02,\n",
              "         2.26079337e-02,  3.62218693e-02,  7.06900805e-02,\n",
              "        -2.40019336e-02,  6.11180738e-02,  5.00973091e-02,\n",
              "        -3.19678821e-02, -1.76684801e-02,  3.78859171e-04,\n",
              "        -2.13744696e-02,  1.58771668e-02, -1.49800545e-02,\n",
              "         3.15467305e-02,  6.57673851e-02, -3.42159756e-02,\n",
              "         6.72251210e-02, -2.18838337e-03,  2.35606208e-02,\n",
              "         4.69700731e-02,  1.95674561e-02,  3.64678679e-03,\n",
              "         2.71314941e-02,  6.04978241e-02, -1.41389733e-02,\n",
              "        -5.04319035e-02,  1.47521561e-02,  6.89701959e-02,\n",
              "         2.50663571e-02,  7.40640238e-03,  8.23459327e-02,\n",
              "        -3.46544944e-02,  2.98654158e-02, -4.94377268e-03,\n",
              "         4.88113128e-02, -2.07917243e-02, -2.49982718e-02,\n",
              "        -2.58122105e-02,  6.16508313e-02,  6.64656088e-02,\n",
              "        -2.06040982e-02,  8.52229521e-02, -1.11487182e-02,\n",
              "         3.20064239e-02, -6.32220358e-02, -1.47427255e-02,\n",
              "        -6.45653680e-02, -2.10521240e-02,  1.78248051e-03,\n",
              "        -2.80820262e-02, -5.85299321e-02,  1.62260036e-03,\n",
              "        -3.83886658e-02, -3.31622250e-02, -1.02460478e-02,\n",
              "        -1.81147002e-03, -3.91489081e-02, -7.72235822e-03,\n",
              "        -4.11957037e-03, -1.59047879e-02,  1.99816022e-02,\n",
              "        -5.66981025e-02,  2.89069694e-02,  8.57665390e-02,\n",
              "         3.89580354e-02, -4.40587997e-02,  8.60877242e-03,\n",
              "        -5.55346766e-03,  9.89358313e-03, -9.92525816e-02,\n",
              "         2.85054315e-02,  2.15082001e-02, -3.14837545e-02,\n",
              "        -2.59674154e-02,  1.97250377e-02, -1.84694342e-02,\n",
              "         3.03611206e-03, -2.72004791e-02,  4.83697020e-02,\n",
              "        -1.16628390e-02, -7.63687789e-02, -1.04886383e-01,\n",
              "         4.40655015e-02, -3.12711932e-02, -6.10472001e-02,\n",
              "        -2.93318573e-02, -5.06818332e-02,  1.06605843e-01,\n",
              "        -6.33916631e-02,  1.03535755e-02, -6.61296695e-02,\n",
              "        -1.56294685e-02,  2.73306351e-02,  1.60034224e-02,\n",
              "        -7.24755675e-02,  4.06782655e-03, -1.84272993e-02,\n",
              "         4.62742932e-02,  8.28277133e-03, -3.34375575e-02,\n",
              "        -2.53165625e-02, -3.78891192e-02,  3.18382531e-02,\n",
              "        -7.95366317e-02, -3.60742919e-02, -3.74286762e-03,\n",
              "         4.74717021e-02,  4.00510244e-02,  5.56601072e-03,\n",
              "        -8.92450940e-03,  2.51904945e-03, -8.87280330e-02,\n",
              "         3.16463714e-03,  6.92752749e-02,  1.87487807e-02,\n",
              "         7.46729691e-03,  3.55915800e-02, -1.08069666e-02,\n",
              "        -4.81700618e-03, -5.77399216e-04, -3.14019360e-02,\n",
              "        -4.28233631e-02,  3.86294834e-02, -5.07849529e-02,\n",
              "         6.86541870e-02, -3.99183966e-02,  4.44252044e-02,\n",
              "         3.14965099e-02, -3.57793346e-02,  1.78305956e-03,\n",
              "         6.39345944e-02, -3.01403068e-02, -7.01860189e-02,\n",
              "        -5.56436647e-03, -5.24932481e-02,  9.37163364e-03,\n",
              "        -4.40062545e-02, -1.87493265e-02,  4.06519510e-02,\n",
              "         5.12540564e-02,  3.13774906e-02,  6.14930242e-02,\n",
              "         3.99830379e-02,  1.57226995e-02,  2.17171255e-02,\n",
              "        -7.36667262e-03,  2.44788080e-02, -5.29227369e-02,\n",
              "         3.62654552e-02, -2.01922581e-02, -1.44624431e-02,\n",
              "        -3.97507139e-02,  1.72220245e-02, -3.77294943e-02,\n",
              "        -1.19281206e-02, -4.00075950e-02, -6.49851039e-02,\n",
              "         3.91927138e-02, -6.04354851e-02, -3.46955471e-02,\n",
              "        -4.78384756e-02,  2.91246716e-02,  1.93290617e-02,\n",
              "         1.42228859e-03,  4.25901730e-03,  2.99066268e-02,\n",
              "         1.02131031e-02, -2.11686548e-02, -5.41935004e-02,\n",
              "        -2.24616211e-02,  5.35609946e-02, -5.27189635e-02,\n",
              "         1.20175816e-02, -8.83004144e-02, -5.75866699e-02,\n",
              "         1.96854628e-04,  1.10033182e-02,  1.04877293e-01,\n",
              "         1.54748873e-03,  1.21689644e-02, -6.69415668e-02,\n",
              "        -5.00113592e-02, -8.85474235e-02, -1.29038822e-02,\n",
              "         5.82367219e-02,  4.05179411e-02, -4.29418460e-02,\n",
              "        -2.64565889e-02, -5.91767542e-02,  2.37779077e-02,\n",
              "         4.42980928e-03, -2.76884921e-02,  2.23417580e-02,\n",
              "         7.56014138e-02,  2.16682553e-02, -4.16078381e-02,\n",
              "         8.60964656e-02, -6.20802417e-02,  7.16114119e-02,\n",
              "        -2.51804255e-02,  1.43661542e-04, -3.87275741e-02,\n",
              "         1.23081375e-02,  7.59763867e-02,  1.10623231e-02,\n",
              "         1.48911672e-02, -8.76214206e-02,  4.28865217e-02,\n",
              "        -4.70819846e-02,  2.96455100e-02,  2.31968816e-02,\n",
              "         1.30757195e-04,  3.73208858e-02, -5.62946638e-03,\n",
              "         6.07939065e-02, -4.01923880e-02, -6.14308119e-02,\n",
              "         4.06036489e-02,  3.16312946e-02,  8.47172141e-02,\n",
              "        -2.59934869e-02,  3.42703238e-02, -6.41662907e-03,\n",
              "         5.29615991e-02,  3.58937681e-02,  1.21076368e-02,\n",
              "         5.76839671e-02, -4.31863666e-02,  4.89380732e-02,\n",
              "         3.11771072e-02,  3.58463489e-02, -5.84738469e-03,\n",
              "        -4.04929630e-02, -5.70325144e-02, -9.67576727e-02,\n",
              "         6.14197403e-02, -2.61372793e-02]], dtype=float32)>"
            ]
          },
          "metadata": {
            "tags": []
          },
          "execution_count": 4
        }
      ]
    },
    {
      "cell_type": "code",
      "metadata": {
        "id": "HIAXLtnvkEms"
      },
      "source": [
        "# Text Classification"
      ],
      "execution_count": null,
      "outputs": []
    },
    {
      "cell_type": "code",
      "metadata": {
        "id": "ZG8sUdKtzMih"
      },
      "source": [
        ""
      ],
      "execution_count": null,
      "outputs": []
    },
    {
      "cell_type": "code",
      "metadata": {
        "id": "518KnDYKnKjf",
        "colab": {
          "base_uri": "https://localhost:8080/",
          "height": 182
        },
        "outputId": "b40d8d52-f82e-4eeb-f600-40ef7414f9d4"
      },
      "source": [
        "train_data = open(\"train_5500.txt\").readlines()\n",
        "test_data = open(\"test_data.txt\").readlines()"
      ],
      "execution_count": null,
      "outputs": [
        {
          "output_type": "error",
          "ename": "FileNotFoundError",
          "evalue": "ignored",
          "traceback": [
            "\u001b[0;31m---------------------------------------------------------------------------\u001b[0m",
            "\u001b[0;31mFileNotFoundError\u001b[0m                         Traceback (most recent call last)",
            "\u001b[0;32m<ipython-input-7-72699f73ca3d>\u001b[0m in \u001b[0;36m<module>\u001b[0;34m()\u001b[0m\n\u001b[0;32m----> 1\u001b[0;31m \u001b[0mtrain_data\u001b[0m \u001b[0;34m=\u001b[0m \u001b[0mopen\u001b[0m\u001b[0;34m(\u001b[0m\u001b[0;34m\"train_5500.txt\"\u001b[0m\u001b[0;34m)\u001b[0m\u001b[0;34m.\u001b[0m\u001b[0mreadlines\u001b[0m\u001b[0;34m(\u001b[0m\u001b[0;34m)\u001b[0m\u001b[0;34m\u001b[0m\u001b[0;34m\u001b[0m\u001b[0m\n\u001b[0m\u001b[1;32m      2\u001b[0m \u001b[0mtest_data\u001b[0m \u001b[0;34m=\u001b[0m \u001b[0mopen\u001b[0m\u001b[0;34m(\u001b[0m\u001b[0;34m\"test_data.txt\"\u001b[0m\u001b[0;34m)\u001b[0m\u001b[0;34m.\u001b[0m\u001b[0mreadlines\u001b[0m\u001b[0;34m(\u001b[0m\u001b[0;34m)\u001b[0m\u001b[0;34m\u001b[0m\u001b[0;34m\u001b[0m\u001b[0m\n",
            "\u001b[0;31mFileNotFoundError\u001b[0m: [Errno 2] No such file or directory: 'train_5500.txt'"
          ]
        }
      ]
    },
    {
      "cell_type": "code",
      "metadata": {
        "id": "x6cb1MnSnTW4",
        "colab": {
          "base_uri": "https://localhost:8080/",
          "height": 35
        },
        "outputId": "dbe44890-b13c-4827-8ef4-48d17f8f3a1a"
      },
      "source": [
        "len(train_data)"
      ],
      "execution_count": null,
      "outputs": [
        {
          "output_type": "execute_result",
          "data": {
            "text/plain": [
              "5452"
            ]
          },
          "metadata": {
            "tags": []
          },
          "execution_count": 20
        }
      ]
    },
    {
      "cell_type": "code",
      "metadata": {
        "id": "WyI6gZ85nVUA",
        "colab": {
          "base_uri": "https://localhost:8080/",
          "height": 35
        },
        "outputId": "24d7c896-966d-49f3-a56e-ac8e74a7ddaf"
      },
      "source": [
        "len(test_data)"
      ],
      "execution_count": null,
      "outputs": [
        {
          "output_type": "execute_result",
          "data": {
            "text/plain": [
              "500"
            ]
          },
          "metadata": {
            "tags": []
          },
          "execution_count": 21
        }
      ]
    },
    {
      "cell_type": "code",
      "metadata": {
        "id": "hq43cNhJnepg",
        "colab": {
          "base_uri": "https://localhost:8080/",
          "height": 125
        },
        "outputId": "ee6f84f7-a220-4597-9e22-b0ce57221c93"
      },
      "source": [
        "train_data[:5]"
      ],
      "execution_count": null,
      "outputs": [
        {
          "output_type": "execute_result",
          "data": {
            "text/plain": [
              "['DESC:manner How did serfdom develop in and then leave Russia ?\\n',\n",
              " 'ENTY:cremat What films featured the character Popeye Doyle ?\\n',\n",
              " \"DESC:manner How can I find a list of celebrities ' real names ?\\n\",\n",
              " 'ENTY:animal What fowl grabs the spotlight after the Chinese Year of the Monkey ?\\n',\n",
              " 'ABBR:exp What is the full form of .com ?\\n']"
            ]
          },
          "metadata": {
            "tags": []
          },
          "execution_count": 22
        }
      ]
    },
    {
      "cell_type": "code",
      "metadata": {
        "id": "pXN2j4kln5Ow"
      },
      "source": [
        "def prepare_data(data):\n",
        "  x = []\n",
        "  y = []\n",
        "  for doc in data:\n",
        "    docs = doc.split(\" \")\n",
        "    y.append(docs[0].split(\":\")[0])\n",
        "    x.append(\" \".join(docs[1:]).strip())\n",
        "  return x,y\n"
      ],
      "execution_count": null,
      "outputs": []
    },
    {
      "cell_type": "code",
      "metadata": {
        "id": "h1PMEX4DoIHT"
      },
      "source": [
        "xtrain,ytrain = prepare_data(train_data)\n",
        "xtest,ytest = prepare_data(test_data)"
      ],
      "execution_count": null,
      "outputs": []
    },
    {
      "cell_type": "code",
      "metadata": {
        "id": "KapSq4tDpS0e"
      },
      "source": [
        "import pandas as pd"
      ],
      "execution_count": null,
      "outputs": []
    },
    {
      "cell_type": "code",
      "metadata": {
        "id": "kVT4C3pFpO1T",
        "colab": {
          "base_uri": "https://localhost:8080/",
          "height": 203
        },
        "outputId": "10d9b218-ee8f-4a42-8c4a-23c41670f01e"
      },
      "source": [
        "ytrain = pd.DataFrame(ytrain)\n",
        "ytrain = pd.get_dummies(ytrain)\n",
        "ytrain.head()"
      ],
      "execution_count": null,
      "outputs": [
        {
          "output_type": "execute_result",
          "data": {
            "text/html": [
              "<div>\n",
              "<style scoped>\n",
              "    .dataframe tbody tr th:only-of-type {\n",
              "        vertical-align: middle;\n",
              "    }\n",
              "\n",
              "    .dataframe tbody tr th {\n",
              "        vertical-align: top;\n",
              "    }\n",
              "\n",
              "    .dataframe thead th {\n",
              "        text-align: right;\n",
              "    }\n",
              "</style>\n",
              "<table border=\"1\" class=\"dataframe\">\n",
              "  <thead>\n",
              "    <tr style=\"text-align: right;\">\n",
              "      <th></th>\n",
              "      <th>0_ABBR</th>\n",
              "      <th>0_DESC</th>\n",
              "      <th>0_ENTY</th>\n",
              "      <th>0_HUM</th>\n",
              "      <th>0_LOC</th>\n",
              "      <th>0_NUM</th>\n",
              "    </tr>\n",
              "  </thead>\n",
              "  <tbody>\n",
              "    <tr>\n",
              "      <th>0</th>\n",
              "      <td>0</td>\n",
              "      <td>1</td>\n",
              "      <td>0</td>\n",
              "      <td>0</td>\n",
              "      <td>0</td>\n",
              "      <td>0</td>\n",
              "    </tr>\n",
              "    <tr>\n",
              "      <th>1</th>\n",
              "      <td>0</td>\n",
              "      <td>0</td>\n",
              "      <td>1</td>\n",
              "      <td>0</td>\n",
              "      <td>0</td>\n",
              "      <td>0</td>\n",
              "    </tr>\n",
              "    <tr>\n",
              "      <th>2</th>\n",
              "      <td>0</td>\n",
              "      <td>1</td>\n",
              "      <td>0</td>\n",
              "      <td>0</td>\n",
              "      <td>0</td>\n",
              "      <td>0</td>\n",
              "    </tr>\n",
              "    <tr>\n",
              "      <th>3</th>\n",
              "      <td>0</td>\n",
              "      <td>0</td>\n",
              "      <td>1</td>\n",
              "      <td>0</td>\n",
              "      <td>0</td>\n",
              "      <td>0</td>\n",
              "    </tr>\n",
              "    <tr>\n",
              "      <th>4</th>\n",
              "      <td>1</td>\n",
              "      <td>0</td>\n",
              "      <td>0</td>\n",
              "      <td>0</td>\n",
              "      <td>0</td>\n",
              "      <td>0</td>\n",
              "    </tr>\n",
              "  </tbody>\n",
              "</table>\n",
              "</div>"
            ],
            "text/plain": [
              "   0_ABBR  0_DESC  0_ENTY  0_HUM  0_LOC  0_NUM\n",
              "0       0       1       0      0      0      0\n",
              "1       0       0       1      0      0      0\n",
              "2       0       1       0      0      0      0\n",
              "3       0       0       1      0      0      0\n",
              "4       1       0       0      0      0      0"
            ]
          },
          "metadata": {
            "tags": []
          },
          "execution_count": 31
        }
      ]
    },
    {
      "cell_type": "code",
      "metadata": {
        "id": "fKQBHApYoKV0",
        "colab": {
          "base_uri": "https://localhost:8080/",
          "height": 203
        },
        "outputId": "0585a2cf-e9b8-49f0-a3a8-1eae8bba949f"
      },
      "source": [
        "ytest = pd.DataFrame(ytest)\n",
        "ytest = pd.get_dummies(ytest)\n",
        "ytest.head()"
      ],
      "execution_count": null,
      "outputs": [
        {
          "output_type": "execute_result",
          "data": {
            "text/html": [
              "<div>\n",
              "<style scoped>\n",
              "    .dataframe tbody tr th:only-of-type {\n",
              "        vertical-align: middle;\n",
              "    }\n",
              "\n",
              "    .dataframe tbody tr th {\n",
              "        vertical-align: top;\n",
              "    }\n",
              "\n",
              "    .dataframe thead th {\n",
              "        text-align: right;\n",
              "    }\n",
              "</style>\n",
              "<table border=\"1\" class=\"dataframe\">\n",
              "  <thead>\n",
              "    <tr style=\"text-align: right;\">\n",
              "      <th></th>\n",
              "      <th>0_ABBR</th>\n",
              "      <th>0_DESC</th>\n",
              "      <th>0_ENTY</th>\n",
              "      <th>0_HUM</th>\n",
              "      <th>0_LOC</th>\n",
              "      <th>0_NUM</th>\n",
              "    </tr>\n",
              "  </thead>\n",
              "  <tbody>\n",
              "    <tr>\n",
              "      <th>0</th>\n",
              "      <td>0</td>\n",
              "      <td>0</td>\n",
              "      <td>0</td>\n",
              "      <td>0</td>\n",
              "      <td>0</td>\n",
              "      <td>1</td>\n",
              "    </tr>\n",
              "    <tr>\n",
              "      <th>1</th>\n",
              "      <td>0</td>\n",
              "      <td>0</td>\n",
              "      <td>0</td>\n",
              "      <td>0</td>\n",
              "      <td>1</td>\n",
              "      <td>0</td>\n",
              "    </tr>\n",
              "    <tr>\n",
              "      <th>2</th>\n",
              "      <td>0</td>\n",
              "      <td>0</td>\n",
              "      <td>0</td>\n",
              "      <td>1</td>\n",
              "      <td>0</td>\n",
              "      <td>0</td>\n",
              "    </tr>\n",
              "    <tr>\n",
              "      <th>3</th>\n",
              "      <td>0</td>\n",
              "      <td>1</td>\n",
              "      <td>0</td>\n",
              "      <td>0</td>\n",
              "      <td>0</td>\n",
              "      <td>0</td>\n",
              "    </tr>\n",
              "    <tr>\n",
              "      <th>4</th>\n",
              "      <td>0</td>\n",
              "      <td>0</td>\n",
              "      <td>0</td>\n",
              "      <td>0</td>\n",
              "      <td>0</td>\n",
              "      <td>1</td>\n",
              "    </tr>\n",
              "  </tbody>\n",
              "</table>\n",
              "</div>"
            ],
            "text/plain": [
              "   0_ABBR  0_DESC  0_ENTY  0_HUM  0_LOC  0_NUM\n",
              "0       0       0       0      0      0      1\n",
              "1       0       0       0      0      1      0\n",
              "2       0       0       0      1      0      0\n",
              "3       0       1       0      0      0      0\n",
              "4       0       0       0      0      0      1"
            ]
          },
          "metadata": {
            "tags": []
          },
          "execution_count": 32
        }
      ]
    },
    {
      "cell_type": "code",
      "metadata": {
        "id": "Bqnk0y76pC8p",
        "colab": {
          "base_uri": "https://localhost:8080/",
          "height": 35
        },
        "outputId": "993dc001-572f-48b5-858b-0487dba85d24"
      },
      "source": [
        "categories = list(ytrain.columns)\n",
        "categories = [i[2:] for i in categories]\n",
        "categories"
      ],
      "execution_count": null,
      "outputs": [
        {
          "output_type": "execute_result",
          "data": {
            "text/plain": [
              "['ABBR', 'DESC', 'ENTY', 'HUM', 'LOC', 'NUM']"
            ]
          },
          "metadata": {
            "tags": []
          },
          "execution_count": 34
        }
      ]
    },
    {
      "cell_type": "markdown",
      "metadata": {
        "id": "RHaiJMIVqIcb"
      },
      "source": [
        "### Text Classification using Transfer learning"
      ]
    },
    {
      "cell_type": "code",
      "metadata": {
        "id": "6D65cYV8qgb7"
      },
      "source": [
        "url = \"https://tfhub.dev/google/universal-sentence-encoder/1\"\n",
        "emb = hub.Module(url)"
      ],
      "execution_count": null,
      "outputs": []
    },
    {
      "cell_type": "code",
      "metadata": {
        "id": "Io5eVHdyqHqt"
      },
      "source": [
        "# create a function which will accept a text doc and return the corresponding vector\n",
        "def sent2vec(doc):\n",
        "  vector = emb(tf.squeeze(tf.cast(doc,tf.string)),as_dict=True)['default']\n",
        "  return vector"
      ],
      "execution_count": null,
      "outputs": []
    },
    {
      "cell_type": "code",
      "metadata": {
        "id": "6v4iwecapr98"
      },
      "source": [
        "from tensorflow.keras import models,layers"
      ],
      "execution_count": null,
      "outputs": []
    },
    {
      "cell_type": "code",
      "metadata": {
        "id": "T3hyI3-orHCi",
        "colab": {
          "base_uri": "https://localhost:8080/",
          "height": 72
        },
        "outputId": "d0bf00ac-9b46-4a0d-b502-1d848ef14b5c"
      },
      "source": [
        "input_layer = layers.Input(shape=(1,),dtype='string')\n",
        "embedding_layer = layers.Lambda(sent2vec,output_shape=(512,))(input_layer)\n",
        "dense1 = layers.Dense(256,activation='relu')(embedding_layer)\n",
        "output_layer = layers.Dense(6,activation='softmax')(dense1)\n",
        "\n",
        "model = models.Model(inputs=[input_layer],outputs=output_layer)\n",
        "model.compile(loss='categorical_crossentropy',optimizer='adam',metrics=['accuracy'])"
      ],
      "execution_count": null,
      "outputs": [
        {
          "output_type": "stream",
          "text": [
            "INFO:tensorflow:Saver not created because there are no variables in the graph to restore\n"
          ],
          "name": "stdout"
        },
        {
          "output_type": "stream",
          "text": [
            "INFO:tensorflow:Saver not created because there are no variables in the graph to restore\n"
          ],
          "name": "stderr"
        }
      ]
    },
    {
      "cell_type": "code",
      "metadata": {
        "id": "doFLeyrEujrJ",
        "colab": {
          "base_uri": "https://localhost:8080/",
          "height": 52
        },
        "outputId": "e20e1b38-f489-45ed-aa20-fdc6c17d8e56"
      },
      "source": [
        "import numpy as np\n",
        "xtrain = np.array(xtrain).reshape(-1,1)\n",
        "xtest = np.array(xtest).reshape(-1,1)\n",
        "print(xtrain.shape)\n",
        "print(xtest.shape)"
      ],
      "execution_count": null,
      "outputs": [
        {
          "output_type": "stream",
          "text": [
            "(5452, 1)\n",
            "(500, 1)\n"
          ],
          "name": "stdout"
        }
      ]
    },
    {
      "cell_type": "code",
      "metadata": {
        "id": "be_JzeQtsMRl",
        "colab": {
          "base_uri": "https://localhost:8080/",
          "height": 407
        },
        "outputId": "1e60b81e-4019-47e6-9be2-60edd838c600"
      },
      "source": [
        "with tf.Session() as sess:\n",
        "  sess.run([tf.global_variables_initializer(),tf.tables_initializer()])\n",
        "  history = model.fit(xtrain,ytrain,epochs=10,\n",
        "                      batch_size=50,validation_data=(xtest,ytest),\n",
        "                      verbose=True)\n",
        "  model.save_weights(\"model.h5\")"
      ],
      "execution_count": null,
      "outputs": [
        {
          "output_type": "stream",
          "text": [
            "Train on 5452 samples, validate on 500 samples\n",
            "Epoch 1/10\n",
            "5452/5452 [==============================] - 6s 1ms/sample - loss: 0.9817 - acc: 0.7074 - val_loss: 0.4733 - val_acc: 0.8700\n",
            "Epoch 2/10\n",
            "5452/5452 [==============================] - 2s 302us/sample - loss: 0.5195 - acc: 0.8146 - val_loss: 0.3669 - val_acc: 0.8780\n",
            "Epoch 3/10\n",
            "5452/5452 [==============================] - 2s 301us/sample - loss: 0.4533 - acc: 0.8340 - val_loss: 0.3393 - val_acc: 0.8840\n",
            "Epoch 4/10\n",
            "5452/5452 [==============================] - 2s 297us/sample - loss: 0.4287 - acc: 0.8423 - val_loss: 0.3077 - val_acc: 0.8880\n",
            "Epoch 5/10\n",
            "5452/5452 [==============================] - 2s 291us/sample - loss: 0.4054 - acc: 0.8553 - val_loss: 0.3186 - val_acc: 0.8860\n",
            "Epoch 6/10\n",
            "5452/5452 [==============================] - 2s 290us/sample - loss: 0.3956 - acc: 0.8580 - val_loss: 0.3043 - val_acc: 0.8880\n",
            "Epoch 7/10\n",
            "5452/5452 [==============================] - 2s 298us/sample - loss: 0.3800 - acc: 0.8593 - val_loss: 0.2973 - val_acc: 0.8900\n",
            "Epoch 8/10\n",
            "5452/5452 [==============================] - 2s 293us/sample - loss: 0.3687 - acc: 0.8645 - val_loss: 0.2976 - val_acc: 0.8940\n",
            "Epoch 9/10\n",
            "5452/5452 [==============================] - 2s 296us/sample - loss: 0.3714 - acc: 0.8643 - val_loss: 0.3067 - val_acc: 0.8900\n",
            "Epoch 10/10\n",
            "5452/5452 [==============================] - 2s 295us/sample - loss: 0.3470 - acc: 0.8751 - val_loss: 0.2986 - val_acc: 0.8900\n"
          ],
          "name": "stdout"
        }
      ]
    },
    {
      "cell_type": "code",
      "metadata": {
        "id": "QNu0tJaCuNsm"
      },
      "source": [
        "new_doc = [\"Who is president of United States of America?\",\"What is price for Harley Davidson?\"]\n",
        "new_doc = np.array(new_doc).reshape(-1,1)\n",
        "with tf.Session() as sess:\n",
        "  sess.run([tf.global_variables_initializer(),tf.tables_initializer()])\n",
        "  model.load_weights(\"model.h5\")\n",
        "  output = model.predict(new_doc)"
      ],
      "execution_count": null,
      "outputs": []
    },
    {
      "cell_type": "code",
      "metadata": {
        "id": "06KNi_1CxoGn",
        "colab": {
          "base_uri": "https://localhost:8080/",
          "height": 35
        },
        "outputId": "a291fc6d-9253-4c1c-af66-ff53866fc6c2"
      },
      "source": [
        "output2 = [np.argmax(i) for i in output]\n",
        "output2 = [categories[i] for i in output2]\n",
        "output2"
      ],
      "execution_count": null,
      "outputs": [
        {
          "output_type": "execute_result",
          "data": {
            "text/plain": [
              "['HUM', 'NUM']"
            ]
          },
          "metadata": {
            "tags": []
          },
          "execution_count": 93
        }
      ]
    },
    {
      "cell_type": "code",
      "metadata": {
        "id": "bfdGBvuXx3A_"
      },
      "source": [
        ""
      ],
      "execution_count": null,
      "outputs": []
    }
  ]
}