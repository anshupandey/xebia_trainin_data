{
  "nbformat": 4,
  "nbformat_minor": 0,
  "metadata": {
    "colab": {
      "name": "Xebia_CNN_MNIST_Fashion_image_classification  -students.ipynb",
      "provenance": [],
      "authorship_tag": "ABX9TyOI7qaju7CDmSHR1fLompP3",
      "include_colab_link": true
    },
    "kernelspec": {
      "name": "python3",
      "display_name": "Python 3"
    },
    "accelerator": "GPU"
  },
  "cells": [
    {
      "cell_type": "markdown",
      "metadata": {
        "id": "view-in-github",
        "colab_type": "text"
      },
      "source": [
        "<a href=\"https://colab.research.google.com/github/anshupandey/xebia_training_data/blob/main/Xebia_CNN_MNIST_Fashion_image_classification_students.ipynb\" target=\"_parent\"><img src=\"https://colab.research.google.com/assets/colab-badge.svg\" alt=\"Open In Colab\"/></a>"
      ]
    },
    {
      "cell_type": "code",
      "metadata": {
        "colab": {
          "base_uri": "https://localhost:8080/"
        },
        "id": "J4sfYfNAD_cc",
        "outputId": "037f1633-f57c-46cc-be07-1a79a0e6e764"
      },
      "source": [
        "#load the dataset\r\n",
        "from tensorflow.keras.datasets import fashion_mnist\r\n",
        "(xtrain,ytrain),(xtest,ytest) = fashion_mnist.load_data()\r\n",
        "print(xtrain.shape)\r\n",
        "print(ytrain.shape)\r\n",
        "print(xtest.shape)\r\n",
        "print(ytest.shape)"
      ],
      "execution_count": 1,
      "outputs": [
        {
          "output_type": "stream",
          "text": [
            "Downloading data from https://storage.googleapis.com/tensorflow/tf-keras-datasets/train-labels-idx1-ubyte.gz\n",
            "32768/29515 [=================================] - 0s 0us/step\n",
            "Downloading data from https://storage.googleapis.com/tensorflow/tf-keras-datasets/train-images-idx3-ubyte.gz\n",
            "26427392/26421880 [==============================] - 0s 0us/step\n",
            "Downloading data from https://storage.googleapis.com/tensorflow/tf-keras-datasets/t10k-labels-idx1-ubyte.gz\n",
            "8192/5148 [===============================================] - 0s 0us/step\n",
            "Downloading data from https://storage.googleapis.com/tensorflow/tf-keras-datasets/t10k-images-idx3-ubyte.gz\n",
            "4423680/4422102 [==============================] - 0s 0us/step\n",
            "(60000, 28, 28)\n",
            "(60000,)\n",
            "(10000, 28, 28)\n",
            "(10000,)\n"
          ],
          "name": "stdout"
        }
      ]
    },
    {
      "cell_type": "code",
      "metadata": {
        "id": "LqA0SB-_FyOQ"
      },
      "source": [
        "cnames = [\"T-shirt/top\",\"Trouser\",\"Pullover\",\"Dress\",\"Coat\",\"Sandal\",\"Shirt\",\"Sneaker\",\"Bag\",\"Ankle boot\"]"
      ],
      "execution_count": 2,
      "outputs": []
    },
    {
      "cell_type": "code",
      "metadata": {
        "id": "uPQ9BJwBGXQf"
      },
      "source": [
        "import pandas as pd\r\n",
        "import numpy as np\r\n",
        "import matplotlib.pyplot as plt"
      ],
      "execution_count": 3,
      "outputs": []
    },
    {
      "cell_type": "code",
      "metadata": {
        "id": "oA_bSJvaGXC2"
      },
      "source": [
        ""
      ],
      "execution_count": 3,
      "outputs": []
    },
    {
      "cell_type": "code",
      "metadata": {
        "id": "bS4oZvdAGRND",
        "colab": {
          "base_uri": "https://localhost:8080/",
          "height": 265
        },
        "outputId": "abb937cf-37f9-49c5-cd12-47fac06d5c42"
      },
      "source": [
        "plt.imshow(xtrain[60],cmap='gray')\r\n",
        "plt.show()"
      ],
      "execution_count": 4,
      "outputs": [
        {
          "output_type": "display_data",
          "data": {
            "image/png": "[encoded data removed]",
            "text/plain": [
              "<Figure size 432x288 with 1 Axes>"
            ]
          },
          "metadata": {
            "tags": [],
            "needs_background": "light"
          }
        }
      ]
    },
    {
      "cell_type": "code",
      "metadata": {
        "colab": {
          "base_uri": "https://localhost:8080/"
        },
        "id": "d8j0f_KoGUSR",
        "outputId": "c0b5413c-b3e2-49ce-9a11-385e8b40650d"
      },
      "source": [
        "print(ytrain[60])\r\n",
        "print(cnames[ytrain[60]])"
      ],
      "execution_count": 5,
      "outputs": [
        {
          "output_type": "stream",
          "text": [
            "5\n",
            "Sandal\n"
          ],
          "name": "stdout"
        }
      ]
    },
    {
      "cell_type": "markdown",
      "metadata": {
        "id": "IqwiWoKuJBWK"
      },
      "source": [
        "## Data Preprocessing"
      ]
    },
    {
      "cell_type": "code",
      "metadata": {
        "colab": {
          "base_uri": "https://localhost:8080/"
        },
        "id": "rK_jspTCJhr3",
        "outputId": "59c8ac8a-09d6-4ffe-e6d9-2e92648c1027"
      },
      "source": [
        "print(xtrain.shape)\r\n",
        "print(xtest.shape)"
      ],
      "execution_count": 6,
      "outputs": [
        {
          "output_type": "stream",
          "text": [
            "(60000, 28, 28)\n",
            "(10000, 28, 28)\n"
          ],
          "name": "stdout"
        }
      ]
    },
    {
      "cell_type": "code",
      "metadata": {
        "colab": {
          "base_uri": "https://localhost:8080/"
        },
        "id": "4AjrttasGgBO",
        "outputId": "5809995a-eedd-4506-cd68-185eeafb8c4c"
      },
      "source": [
        "# shape of image = (28,28) -----> (rows,columns,channel) -----> (28,28,1)\r\n",
        "xtrain = xtrain.reshape(60000,28,28,1)\r\n",
        "xtest= xtest.reshape(10000,28,28,1)\r\n",
        "print(xtrain.shape)\r\n",
        "print(xtest.shape)"
      ],
      "execution_count": 7,
      "outputs": [
        {
          "output_type": "stream",
          "text": [
            "(60000, 28, 28, 1)\n",
            "(10000, 28, 28, 1)\n"
          ],
          "name": "stdout"
        }
      ]
    },
    {
      "cell_type": "code",
      "metadata": {
        "colab": {
          "base_uri": "https://localhost:8080/"
        },
        "id": "nUcWEEVPJ1J2",
        "outputId": "049b4945-4dbd-4e75-cb98-8453ca66eeed"
      },
      "source": [
        "# number of classes = 10\r\n",
        "# one hot encode the labels\r\n",
        "print(ytrain.shape)\r\n",
        "print(ytest.shape)"
      ],
      "execution_count": 8,
      "outputs": [
        {
          "output_type": "stream",
          "text": [
            "(60000,)\n",
            "(10000,)\n"
          ],
          "name": "stdout"
        }
      ]
    },
    {
      "cell_type": "code",
      "metadata": {
        "colab": {
          "base_uri": "https://localhost:8080/"
        },
        "id": "YLd9Y2ndKNTq",
        "outputId": "1ecdaed9-0272-40aa-c2c5-4e43ce21994f"
      },
      "source": [
        "from tensorflow.keras.utils import to_categorical\r\n",
        "ytrain = to_categorical(ytrain)\r\n",
        "ytest = to_categorical(ytest)\r\n",
        "print(ytrain.shape)\r\n",
        "print(ytest.shape)"
      ],
      "execution_count": 9,
      "outputs": [
        {
          "output_type": "stream",
          "text": [
            "(60000, 10)\n",
            "(10000, 10)\n"
          ],
          "name": "stdout"
        }
      ]
    },
    {
      "cell_type": "code",
      "metadata": {
        "id": "CPrXnSmFzvmU"
      },
      "source": [
        "xtrain = xtrain/255\r\n",
        "xtest = xtest/255"
      ],
      "execution_count": 14,
      "outputs": []
    },
    {
      "cell_type": "markdown",
      "metadata": {
        "id": "sp49WdF1KiU0"
      },
      "source": [
        "# Modelling the CNN - Convolutional Neural Networks"
      ]
    },
    {
      "cell_type": "code",
      "metadata": {
        "id": "Rx61AhQfKXVj"
      },
      "source": [
        "from tensorflow.keras import layers,models"
      ],
      "execution_count": 15,
      "outputs": []
    },
    {
      "cell_type": "code",
      "metadata": {
        "id": "pOPs6L14KoFV"
      },
      "source": [
        "input_layer = layers.Input(shape=(28,28,1))\r\n",
        "\r\n",
        "# Feature Extraction section - convolutional+relu, maxpooling\r\n",
        "\r\n",
        "layer1 = layers.Conv2D(filters=10,kernel_size=(3,3),activation='relu')(input_layer)\r\n",
        "layer1 = layers.Conv2D(filters=18,kernel_size=(3,3),activation='relu')(layer1)\r\n",
        "layer2 = layers.MaxPooling2D(pool_size=(2,2))(layer1)\r\n",
        "\r\n",
        "layer3 = layers.Conv2D(filters=25,kernel_size=(3,3),activation='relu')(layer2)\r\n",
        "layer4 = layers.Conv2D(filters=35,kernel_size=(3,3),activation='relu')(layer3)\r\n",
        "layer4 = layers.Conv2D(filters=45,kernel_size=(3,3),activation='relu')(layer4)\r\n",
        "\r\n",
        "layer5 = layers.Flatten()(layer4)\r\n",
        "\r\n",
        "# classification - dense\r\n",
        "layer6 = layers.Dense(300,activation='relu')(layer5)\r\n",
        "layer6 = layers.Dense(150,activation='relu')(layer6)\r\n",
        "layer7 = layers.Dense(100,activation='relu')(layer6)\r\n",
        "output_layer = layers.Dense(10,activation='softmax')(layer7)"
      ],
      "execution_count": 44,
      "outputs": []
    },
    {
      "cell_type": "code",
      "metadata": {
        "colab": {
          "base_uri": "https://localhost:8080/"
        },
        "id": "vYm1gjbcMmdF",
        "outputId": "695a39d5-ba2b-4b01-b4bf-c2cf889ce725"
      },
      "source": [
        "model = models.Model(inputs=input_layer,outputs = output_layer)\r\n",
        "model.summary()"
      ],
      "execution_count": 45,
      "outputs": [
        {
          "output_type": "stream",
          "text": [
            "Model: \"model_7\"\n",
            "_________________________________________________________________\n",
            "Layer (type)                 Output Shape              Param #   \n",
            "=================================================================\n",
            "input_8 (InputLayer)         [(None, 28, 28, 1)]       0         \n",
            "_________________________________________________________________\n",
            "conv2d_25 (Conv2D)           (None, 26, 26, 10)        100       \n",
            "_________________________________________________________________\n",
            "conv2d_26 (Conv2D)           (None, 24, 24, 18)        1638      \n",
            "_________________________________________________________________\n",
            "max_pooling2d_13 (MaxPooling (None, 12, 12, 18)        0         \n",
            "_________________________________________________________________\n",
            "conv2d_27 (Conv2D)           (None, 10, 10, 25)        4075      \n",
            "_________________________________________________________________\n",
            "conv2d_28 (Conv2D)           (None, 8, 8, 35)          7910      \n",
            "_________________________________________________________________\n",
            "conv2d_29 (Conv2D)           (None, 6, 6, 45)          14220     \n",
            "_________________________________________________________________\n",
            "flatten_7 (Flatten)          (None, 1620)              0         \n",
            "_________________________________________________________________\n",
            "dense_22 (Dense)             (None, 300)               486300    \n",
            "_________________________________________________________________\n",
            "dense_23 (Dense)             (None, 150)               45150     \n",
            "_________________________________________________________________\n",
            "dense_24 (Dense)             (None, 100)               15100     \n",
            "_________________________________________________________________\n",
            "dense_25 (Dense)             (None, 10)                1010      \n",
            "=================================================================\n",
            "Total params: 575,503\n",
            "Trainable params: 575,503\n",
            "Non-trainable params: 0\n",
            "_________________________________________________________________\n"
          ],
          "name": "stdout"
        }
      ]
    },
    {
      "cell_type": "code",
      "metadata": {
        "colab": {
          "base_uri": "https://localhost:8080/"
        },
        "id": "bhxL9sYHMt9d",
        "outputId": "934f8918-5936-4bcb-ed0b-cf03e61ef2fb"
      },
      "source": [
        "model.compile(loss='categorical_crossentropy',optimizer='adam',metrics=['accuracy'])\r\n",
        "model.fit(xtrain,ytrain,epochs=20,batch_size=1000,validation_data=(xtest,ytest))"
      ],
      "execution_count": 46,
      "outputs": [
        {
          "output_type": "stream",
          "text": [
            "Epoch 1/20\n",
            "60/60 [==============================] - 2s 27ms/step - loss: 1.5858 - accuracy: 0.4341 - val_loss: 0.7257 - val_accuracy: 0.7212\n",
            "Epoch 2/20\n",
            "60/60 [==============================] - 1s 22ms/step - loss: 0.6653 - accuracy: 0.7433 - val_loss: 0.5598 - val_accuracy: 0.7871\n",
            "Epoch 3/20\n",
            "60/60 [==============================] - 1s 23ms/step - loss: 0.5247 - accuracy: 0.7970 - val_loss: 0.4794 - val_accuracy: 0.8223\n",
            "Epoch 4/20\n",
            "60/60 [==============================] - 1s 23ms/step - loss: 0.4528 - accuracy: 0.8304 - val_loss: 0.4229 - val_accuracy: 0.8475\n",
            "Epoch 5/20\n",
            "60/60 [==============================] - 1s 23ms/step - loss: 0.3933 - accuracy: 0.8565 - val_loss: 0.3966 - val_accuracy: 0.8580\n",
            "Epoch 6/20\n",
            "60/60 [==============================] - 1s 23ms/step - loss: 0.3683 - accuracy: 0.8657 - val_loss: 0.3723 - val_accuracy: 0.8688\n",
            "Epoch 7/20\n",
            "60/60 [==============================] - 1s 22ms/step - loss: 0.3387 - accuracy: 0.8770 - val_loss: 0.3740 - val_accuracy: 0.8637\n",
            "Epoch 8/20\n",
            "60/60 [==============================] - 1s 22ms/step - loss: 0.3192 - accuracy: 0.8820 - val_loss: 0.3466 - val_accuracy: 0.8774\n",
            "Epoch 9/20\n",
            "60/60 [==============================] - 1s 23ms/step - loss: 0.3013 - accuracy: 0.8881 - val_loss: 0.3112 - val_accuracy: 0.8893\n",
            "Epoch 10/20\n",
            "60/60 [==============================] - 1s 23ms/step - loss: 0.2799 - accuracy: 0.8985 - val_loss: 0.3192 - val_accuracy: 0.8843\n",
            "Epoch 11/20\n",
            "60/60 [==============================] - 1s 23ms/step - loss: 0.2703 - accuracy: 0.9008 - val_loss: 0.3067 - val_accuracy: 0.8911\n",
            "Epoch 12/20\n",
            "60/60 [==============================] - 1s 23ms/step - loss: 0.2597 - accuracy: 0.9061 - val_loss: 0.2946 - val_accuracy: 0.8940\n",
            "Epoch 13/20\n",
            "60/60 [==============================] - 1s 23ms/step - loss: 0.2481 - accuracy: 0.9100 - val_loss: 0.2801 - val_accuracy: 0.9017\n",
            "Epoch 14/20\n",
            "60/60 [==============================] - 1s 23ms/step - loss: 0.2408 - accuracy: 0.9129 - val_loss: 0.2728 - val_accuracy: 0.9027\n",
            "Epoch 15/20\n",
            "60/60 [==============================] - 1s 23ms/step - loss: 0.2237 - accuracy: 0.9165 - val_loss: 0.2777 - val_accuracy: 0.9013\n",
            "Epoch 16/20\n",
            "60/60 [==============================] - 1s 23ms/step - loss: 0.2281 - accuracy: 0.9166 - val_loss: 0.2789 - val_accuracy: 0.9017\n",
            "Epoch 17/20\n",
            "60/60 [==============================] - 1s 23ms/step - loss: 0.2201 - accuracy: 0.9178 - val_loss: 0.2688 - val_accuracy: 0.9034\n",
            "Epoch 18/20\n",
            "60/60 [==============================] - 1s 23ms/step - loss: 0.2079 - accuracy: 0.9229 - val_loss: 0.2717 - val_accuracy: 0.9041\n",
            "Epoch 19/20\n",
            "60/60 [==============================] - 1s 23ms/step - loss: 0.2031 - accuracy: 0.9257 - val_loss: 0.2629 - val_accuracy: 0.9043\n",
            "Epoch 20/20\n",
            "60/60 [==============================] - 1s 23ms/step - loss: 0.1975 - accuracy: 0.9256 - val_loss: 0.2577 - val_accuracy: 0.9069\n"
          ],
          "name": "stdout"
        },
        {
          "output_type": "execute_result",
          "data": {
            "text/plain": [
              "<tensorflow.python.keras.callbacks.History at 0x7f44c70dd410>"
            ]
          },
          "metadata": {
            "tags": []
          },
          "execution_count": 46
        }
      ]
    },
    {
      "cell_type": "code",
      "metadata": {
        "id": "HjDMBodoN4Sn"
      },
      "source": [
        "from tensorflow.keras.utils import plot_model\r\n",
        "plot_model(model,show_shapes=True)"
      ],
      "execution_count": null,
      "outputs": []
    },
    {
      "cell_type": "code",
      "metadata": {
        "id": "rs2kbVv71NHK"
      },
      "source": [
        "ypred = model.predict(xtest)\r\n",
        "ypred = [np.argmax(i) for i in ypred]\r\n",
        "ytest2 = [np.argmax(i) for i in ytest]"
      ],
      "execution_count": 32,
      "outputs": []
    },
    {
      "cell_type": "code",
      "metadata": {
        "id": "3kDlTATq1ONg"
      },
      "source": [
        "from sklearn import metrics\r\n",
        "print(metrics.classification_report(ytest2,ypred))"
      ],
      "execution_count": null,
      "outputs": []
    },
    {
      "cell_type": "code",
      "metadata": {
        "id": "m3SVJXV911E6"
      },
      "source": [
        "model.predict(xtest[0].reshape(1,28,28,1))"
      ],
      "execution_count": null,
      "outputs": []
    },
    {
      "cell_type": "code",
      "metadata": {
        "colab": {
          "base_uri": "https://localhost:8080/",
          "height": 355
        },
        "id": "LoK1Iugx2KeT",
        "outputId": "9db8e54d-2b9a-4d12-f6fe-ffb0ec3690ce"
      },
      "source": [
        "pd.DataFrame(metrics.confusion_matrix(ytest2,ypred),columns=cnames,index=cnames)"
      ],
      "execution_count": 38,
      "outputs": [
        {
          "output_type": "execute_result",
          "data": {
            "text/html": [
              "<div>\n",
              "<style scoped>\n",
              "    .dataframe tbody tr th:only-of-type {\n",
              "        vertical-align: middle;\n",
              "    }\n",
              "\n",
              "    .dataframe tbody tr th {\n",
              "        vertical-align: top;\n",
              "    }\n",
              "\n",
              "    .dataframe thead th {\n",
              "        text-align: right;\n",
              "    }\n",
              "</style>\n",
              "<table border=\"1\" class=\"dataframe\">\n",
              "  <thead>\n",
              "    <tr style=\"text-align: right;\">\n",
              "      <th></th>\n",
              "      <th>T-shirt/top</th>\n",
              "      <th>Trouser</th>\n",
              "      <th>Pullover</th>\n",
              "      <th>Dress</th>\n",
              "      <th>Coat</th>\n",
              "      <th>Sandal</th>\n",
              "      <th>Shirt</th>\n",
              "      <th>Sneaker</th>\n",
              "      <th>Bag</th>\n",
              "      <th>Ankle boot</th>\n",
              "    </tr>\n",
              "  </thead>\n",
              "  <tbody>\n",
              "    <tr>\n",
              "      <th>T-shirt/top</th>\n",
              "      <td>866</td>\n",
              "      <td>0</td>\n",
              "      <td>21</td>\n",
              "      <td>29</td>\n",
              "      <td>3</td>\n",
              "      <td>2</td>\n",
              "      <td>68</td>\n",
              "      <td>0</td>\n",
              "      <td>11</td>\n",
              "      <td>0</td>\n",
              "    </tr>\n",
              "    <tr>\n",
              "      <th>Trouser</th>\n",
              "      <td>0</td>\n",
              "      <td>978</td>\n",
              "      <td>1</td>\n",
              "      <td>15</td>\n",
              "      <td>2</td>\n",
              "      <td>0</td>\n",
              "      <td>3</td>\n",
              "      <td>0</td>\n",
              "      <td>1</td>\n",
              "      <td>0</td>\n",
              "    </tr>\n",
              "    <tr>\n",
              "      <th>Pullover</th>\n",
              "      <td>16</td>\n",
              "      <td>1</td>\n",
              "      <td>888</td>\n",
              "      <td>9</td>\n",
              "      <td>38</td>\n",
              "      <td>0</td>\n",
              "      <td>47</td>\n",
              "      <td>0</td>\n",
              "      <td>1</td>\n",
              "      <td>0</td>\n",
              "    </tr>\n",
              "    <tr>\n",
              "      <th>Dress</th>\n",
              "      <td>23</td>\n",
              "      <td>3</td>\n",
              "      <td>16</td>\n",
              "      <td>913</td>\n",
              "      <td>16</td>\n",
              "      <td>0</td>\n",
              "      <td>26</td>\n",
              "      <td>0</td>\n",
              "      <td>3</td>\n",
              "      <td>0</td>\n",
              "    </tr>\n",
              "    <tr>\n",
              "      <th>Coat</th>\n",
              "      <td>1</td>\n",
              "      <td>1</td>\n",
              "      <td>107</td>\n",
              "      <td>44</td>\n",
              "      <td>771</td>\n",
              "      <td>0</td>\n",
              "      <td>75</td>\n",
              "      <td>0</td>\n",
              "      <td>1</td>\n",
              "      <td>0</td>\n",
              "    </tr>\n",
              "    <tr>\n",
              "      <th>Sandal</th>\n",
              "      <td>0</td>\n",
              "      <td>0</td>\n",
              "      <td>0</td>\n",
              "      <td>0</td>\n",
              "      <td>0</td>\n",
              "      <td>987</td>\n",
              "      <td>0</td>\n",
              "      <td>5</td>\n",
              "      <td>0</td>\n",
              "      <td>8</td>\n",
              "    </tr>\n",
              "    <tr>\n",
              "      <th>Shirt</th>\n",
              "      <td>147</td>\n",
              "      <td>1</td>\n",
              "      <td>96</td>\n",
              "      <td>25</td>\n",
              "      <td>58</td>\n",
              "      <td>0</td>\n",
              "      <td>661</td>\n",
              "      <td>0</td>\n",
              "      <td>12</td>\n",
              "      <td>0</td>\n",
              "    </tr>\n",
              "    <tr>\n",
              "      <th>Sneaker</th>\n",
              "      <td>0</td>\n",
              "      <td>0</td>\n",
              "      <td>0</td>\n",
              "      <td>0</td>\n",
              "      <td>0</td>\n",
              "      <td>33</td>\n",
              "      <td>0</td>\n",
              "      <td>927</td>\n",
              "      <td>1</td>\n",
              "      <td>39</td>\n",
              "    </tr>\n",
              "    <tr>\n",
              "      <th>Bag</th>\n",
              "      <td>2</td>\n",
              "      <td>1</td>\n",
              "      <td>4</td>\n",
              "      <td>4</td>\n",
              "      <td>3</td>\n",
              "      <td>3</td>\n",
              "      <td>2</td>\n",
              "      <td>1</td>\n",
              "      <td>979</td>\n",
              "      <td>1</td>\n",
              "    </tr>\n",
              "    <tr>\n",
              "      <th>Ankle boot</th>\n",
              "      <td>0</td>\n",
              "      <td>0</td>\n",
              "      <td>0</td>\n",
              "      <td>0</td>\n",
              "      <td>0</td>\n",
              "      <td>8</td>\n",
              "      <td>0</td>\n",
              "      <td>27</td>\n",
              "      <td>1</td>\n",
              "      <td>964</td>\n",
              "    </tr>\n",
              "  </tbody>\n",
              "</table>\n",
              "</div>"
            ],
            "text/plain": [
              "             T-shirt/top  Trouser  Pullover  ...  Sneaker  Bag  Ankle boot\n",
              "T-shirt/top          866        0        21  ...        0   11           0\n",
              "Trouser                0      978         1  ...        0    1           0\n",
              "Pullover              16        1       888  ...        0    1           0\n",
              "Dress                 23        3        16  ...        0    3           0\n",
              "Coat                   1        1       107  ...        0    1           0\n",
              "Sandal                 0        0         0  ...        5    0           8\n",
              "Shirt                147        1        96  ...        0   12           0\n",
              "Sneaker                0        0         0  ...      927    1          39\n",
              "Bag                    2        1         4  ...        1  979           1\n",
              "Ankle boot             0        0         0  ...       27    1         964\n",
              "\n",
              "[10 rows x 10 columns]"
            ]
          },
          "metadata": {
            "tags": []
          },
          "execution_count": 38
        }
      ]
    },
    {
      "cell_type": "code",
      "metadata": {
        "id": "DDszrT4R2yMA"
      },
      "source": [
        ""
      ],
      "execution_count": null,
      "outputs": []
    }
  ]
}