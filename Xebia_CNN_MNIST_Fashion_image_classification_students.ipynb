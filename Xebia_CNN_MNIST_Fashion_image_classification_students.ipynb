{
  "nbformat": 4,
  "nbformat_minor": 0,
  "metadata": {
    "colab": {
      "name": "Xebia_CNN_MNIST_Fashion_image_classification  -students.ipynb",
      "provenance": [],
      "authorship_tag": "ABX9TyP6AmtVhWkYvd6UnB0HNJKs",
      "include_colab_link": true
    },
    "kernelspec": {
      "name": "python3",
      "display_name": "Python 3"
    },
    "accelerator": "GPU"
  },
  "cells": [
    {
      "cell_type": "markdown",
      "metadata": {
        "id": "view-in-github",
        "colab_type": "text"
      },
      "source": [
        "<a href=\"https://colab.research.google.com/github/anshupandey/xebia_training_data/blob/main/Xebia_CNN_MNIST_Fashion_image_classification_students.ipynb\" target=\"_parent\"><img src=\"https://colab.research.google.com/assets/colab-badge.svg\" alt=\"Open In Colab\"/></a>"
      ]
    },
    {
      "cell_type": "code",
      "metadata": {
        "colab": {
          "base_uri": "https://localhost:8080/"
        },
        "id": "J4sfYfNAD_cc",
        "outputId": "de95f13c-db6b-4b83-a03d-2059b1bd25bf"
      },
      "source": [
        "#load the dataset\r\n",
        "from tensorflow.keras.datasets import fashion_mnist\r\n",
        "(xtrain,ytrain),(xtest,ytest) = fashion_mnist.load_data()\r\n",
        "print(xtrain.shape)\r\n",
        "print(ytrain.shape)\r\n",
        "print(xtest.shape)\r\n",
        "print(ytest.shape)"
      ],
      "execution_count": null,
      "outputs": [
        {
          "output_type": "stream",
          "text": [
            "(60000, 28, 28)\n",
            "(60000,)\n",
            "(10000, 28, 28)\n",
            "(10000,)\n"
          ],
          "name": "stdout"
        }
      ]
    },
    {
      "cell_type": "code",
      "metadata": {
        "id": "LqA0SB-_FyOQ"
      },
      "source": [
        "cnames = [\"T-shirt/top\",\"Trouser\",\"Pullover\",\"Dress\",\"Coat\",\"Sandal\",\"Shirt\",\"Sneaker\",\"Bag\",\"Ankle boot\"]"
      ],
      "execution_count": null,
      "outputs": []
    },
    {
      "cell_type": "code",
      "metadata": {
        "id": "uPQ9BJwBGXQf"
      },
      "source": [
        "import pandas as pd\r\n",
        "import numpy as np\r\n",
        "import matplotlib.pyplot as plt"
      ],
      "execution_count": null,
      "outputs": []
    },
    {
      "cell_type": "code",
      "metadata": {
        "id": "oA_bSJvaGXC2"
      },
      "source": [
        ""
      ],
      "execution_count": null,
      "outputs": []
    },
    {
      "cell_type": "code",
      "metadata": {
        "id": "bS4oZvdAGRND"
      },
      "source": [
        "plt.imshow(xtrain[60],cmap='gray')\r\n",
        "plt.show()"
      ],
      "execution_count": null,
      "outputs": []
    },
    {
      "cell_type": "code",
      "metadata": {
        "colab": {
          "base_uri": "https://localhost:8080/"
        },
        "id": "d8j0f_KoGUSR",
        "outputId": "934ad99a-5ad3-4ed0-e503-a1f335bb8c94"
      },
      "source": [
        "print(ytrain[60])\r\n",
        "print(cnames[ytrain[60]])"
      ],
      "execution_count": null,
      "outputs": [
        {
          "output_type": "stream",
          "text": [
            "5\n",
            "Sandal\n"
          ],
          "name": "stdout"
        }
      ]
    },
    {
      "cell_type": "markdown",
      "metadata": {
        "id": "IqwiWoKuJBWK"
      },
      "source": [
        "## Data Preprocessing"
      ]
    },
    {
      "cell_type": "code",
      "metadata": {
        "colab": {
          "base_uri": "https://localhost:8080/"
        },
        "id": "rK_jspTCJhr3",
        "outputId": "956b46af-df47-497a-f24d-6116a57a2593"
      },
      "source": [
        "print(xtrain.shape)\r\n",
        "print(xtest.shape)"
      ],
      "execution_count": null,
      "outputs": [
        {
          "output_type": "stream",
          "text": [
            "(60000, 28, 28)\n",
            "(10000, 28, 28)\n"
          ],
          "name": "stdout"
        }
      ]
    },
    {
      "cell_type": "code",
      "metadata": {
        "colab": {
          "base_uri": "https://localhost:8080/"
        },
        "id": "4AjrttasGgBO",
        "outputId": "85219cb4-6e76-4847-d234-bdb6a28d74f7"
      },
      "source": [
        "# shape of image = (28,28) -----> (rows,columns,channel) -----> (28,28,1)\r\n",
        "xtrain = xtrain.reshape(60000,28,28,1)\r\n",
        "xtest= xtest.reshape(10000,28,28,1)\r\n",
        "print(xtrain.shape)\r\n",
        "print(xtest.shape)"
      ],
      "execution_count": null,
      "outputs": [
        {
          "output_type": "stream",
          "text": [
            "(60000, 28, 28, 1)\n",
            "(10000, 28, 28, 1)\n"
          ],
          "name": "stdout"
        }
      ]
    },
    {
      "cell_type": "code",
      "metadata": {
        "colab": {
          "base_uri": "https://localhost:8080/"
        },
        "id": "nUcWEEVPJ1J2",
        "outputId": "fd490765-2143-42a0-d41d-8725be0ff8db"
      },
      "source": [
        "# number of classes = 10\r\n",
        "# one hot encode the labels\r\n",
        "print(ytrain.shape)\r\n",
        "print(ytest.shape)"
      ],
      "execution_count": null,
      "outputs": [
        {
          "output_type": "stream",
          "text": [
            "(60000,)\n",
            "(10000,)\n"
          ],
          "name": "stdout"
        }
      ]
    },
    {
      "cell_type": "code",
      "metadata": {
        "colab": {
          "base_uri": "https://localhost:8080/"
        },
        "id": "YLd9Y2ndKNTq",
        "outputId": "62b156cf-cf70-49db-b924-dc5754acf896"
      },
      "source": [
        "from tensorflow.keras.utils import to_categorical\r\n",
        "ytrain = to_categorical(ytrain)\r\n",
        "ytest = to_categorical(ytest)\r\n",
        "print(ytrain.shape)\r\n",
        "print(ytest.shape)"
      ],
      "execution_count": null,
      "outputs": [
        {
          "output_type": "stream",
          "text": [
            "(60000, 10)\n",
            "(10000, 10)\n"
          ],
          "name": "stdout"
        }
      ]
    },
    {
      "cell_type": "markdown",
      "metadata": {
        "id": "sp49WdF1KiU0"
      },
      "source": [
        "# Modelling the CNN - Convolutional Neural Networks"
      ]
    },
    {
      "cell_type": "code",
      "metadata": {
        "id": "Rx61AhQfKXVj"
      },
      "source": [
        "from tensorflow.keras import layers,models"
      ],
      "execution_count": null,
      "outputs": []
    },
    {
      "cell_type": "code",
      "metadata": {
        "id": "pOPs6L14KoFV"
      },
      "source": [
        "input_layer = layers.Input(shape=(28,28,1))\r\n",
        "\r\n",
        "# Feature Extraction section - convolutional+relu, maxpooling\r\n",
        "\r\n",
        "layer1 = layers.Conv2D(filters=6,kernel_size=(3,3),activation='relu')(input_layer)\r\n",
        "layer2 = layers.MaxPooling2D(pool_size=(2,2))(layer1)\r\n",
        "\r\n",
        "layer3 = layers.Conv2D(filters=16,kernel_size=(3,3),activation='relu')(layer2)\r\n",
        "layer4 = layers.MaxPooling2D(pool_size=(2,2))(layer3)\r\n",
        "\r\n",
        "layer5 = layers.Flatten()(layer4)\r\n",
        "\r\n",
        "# classification - dense\r\n",
        "layer6 = layers.Dense(120,activation='relu')(layer5)\r\n",
        "layer7 = layers.Dense(80,activation='relu')(layer6)\r\n",
        "output_layer = layers.Dense(10,activation='softmax')(layer7)"
      ],
      "execution_count": null,
      "outputs": []
    },
    {
      "cell_type": "code",
      "metadata": {
        "colab": {
          "base_uri": "https://localhost:8080/"
        },
        "id": "vYm1gjbcMmdF",
        "outputId": "77ca1459-c09a-4f99-f496-81736a38fbd0"
      },
      "source": [
        "model = models.Model(inputs=input_layer,outputs = output_layer)\r\n",
        "model.summary()"
      ],
      "execution_count": null,
      "outputs": [
        {
          "output_type": "stream",
          "text": [
            "Model: \"model_1\"\n",
            "_________________________________________________________________\n",
            "Layer (type)                 Output Shape              Param #   \n",
            "=================================================================\n",
            "input_2 (InputLayer)         [(None, 28, 28, 1)]       0         \n",
            "_________________________________________________________________\n",
            "conv2d_2 (Conv2D)            (None, 26, 26, 6)         60        \n",
            "_________________________________________________________________\n",
            "max_pooling2d_2 (MaxPooling2 (None, 13, 13, 6)         0         \n",
            "_________________________________________________________________\n",
            "conv2d_3 (Conv2D)            (None, 11, 11, 16)        880       \n",
            "_________________________________________________________________\n",
            "max_pooling2d_3 (MaxPooling2 (None, 5, 5, 16)          0         \n",
            "_________________________________________________________________\n",
            "flatten_1 (Flatten)          (None, 400)               0         \n",
            "_________________________________________________________________\n",
            "dense_3 (Dense)              (None, 120)               48120     \n",
            "_________________________________________________________________\n",
            "dense_4 (Dense)              (None, 80)                9680      \n",
            "_________________________________________________________________\n",
            "dense_5 (Dense)              (None, 10)                810       \n",
            "=================================================================\n",
            "Total params: 59,550\n",
            "Trainable params: 59,550\n",
            "Non-trainable params: 0\n",
            "_________________________________________________________________\n"
          ],
          "name": "stdout"
        }
      ]
    },
    {
      "cell_type": "code",
      "metadata": {
        "colab": {
          "base_uri": "https://localhost:8080/"
        },
        "id": "bhxL9sYHMt9d",
        "outputId": "95cdc9ff-4220-4b39-ae81-6e6688da8412"
      },
      "source": [
        "model.compile(loss='categorical_crossentropy',optimizer='adam',metrics=['accuracy'])\r\n",
        "model.fit(xtrain,ytrain,epochs=10,batch_size=1000,validation_data=(xtest,ytest))"
      ],
      "execution_count": null,
      "outputs": [
        {
          "output_type": "stream",
          "text": [
            "Epoch 1/10\n",
            "60/60 [==============================] - 33s 11ms/step - loss: 6.3233 - accuracy: 0.4367 - val_loss: 0.8131 - val_accuracy: 0.7308\n",
            "Epoch 2/10\n",
            "60/60 [==============================] - 0s 7ms/step - loss: 0.7245 - accuracy: 0.7604 - val_loss: 0.6240 - val_accuracy: 0.7856\n",
            "Epoch 3/10\n",
            "60/60 [==============================] - 0s 7ms/step - loss: 0.5700 - accuracy: 0.8037 - val_loss: 0.5466 - val_accuracy: 0.8103\n",
            "Epoch 4/10\n",
            "60/60 [==============================] - 0s 7ms/step - loss: 0.4910 - accuracy: 0.8267 - val_loss: 0.5051 - val_accuracy: 0.8203\n",
            "Epoch 5/10\n",
            "60/60 [==============================] - 0s 7ms/step - loss: 0.4383 - accuracy: 0.8424 - val_loss: 0.4818 - val_accuracy: 0.8288\n",
            "Epoch 6/10\n",
            "60/60 [==============================] - 0s 7ms/step - loss: 0.4142 - accuracy: 0.8494 - val_loss: 0.4570 - val_accuracy: 0.8370\n",
            "Epoch 7/10\n",
            "60/60 [==============================] - 0s 7ms/step - loss: 0.3856 - accuracy: 0.8602 - val_loss: 0.4403 - val_accuracy: 0.8435\n",
            "Epoch 8/10\n",
            "60/60 [==============================] - 0s 7ms/step - loss: 0.3652 - accuracy: 0.8669 - val_loss: 0.4301 - val_accuracy: 0.8444\n",
            "Epoch 9/10\n",
            "60/60 [==============================] - 0s 7ms/step - loss: 0.3500 - accuracy: 0.8725 - val_loss: 0.4226 - val_accuracy: 0.8468\n",
            "Epoch 10/10\n",
            "60/60 [==============================] - 0s 7ms/step - loss: 0.3329 - accuracy: 0.8795 - val_loss: 0.4233 - val_accuracy: 0.8498\n"
          ],
          "name": "stdout"
        },
        {
          "output_type": "execute_result",
          "data": {
            "text/plain": [
              "<tensorflow.python.keras.callbacks.History at 0x7f2c7ac00210>"
            ]
          },
          "metadata": {
            "tags": []
          },
          "execution_count": 21
        }
      ]
    },
    {
      "cell_type": "code",
      "metadata": {
        "id": "HjDMBodoN4Sn"
      },
      "source": [
        ""
      ],
      "execution_count": null,
      "outputs": []
    }
  ]
}